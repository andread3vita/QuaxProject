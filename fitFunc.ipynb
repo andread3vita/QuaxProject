{
 "cells": [
  {
   "cell_type": "markdown",
   "id": "1aff6d36",
   "metadata": {},
   "source": [
    "# Fits"
   ]
  },
  {
   "cell_type": "code",
   "execution_count": 1,
   "id": "ae6f7d65",
   "metadata": {},
   "outputs": [],
   "source": [
    "import numpy as np\n",
    "from lmfit import Model\n",
    "import matplotlib.pyplot as plt\n",
    "from matplotlib.gridspec import GridSpec"
   ]
  },
  {
   "cell_type": "markdown",
   "id": "fd3f92d2",
   "metadata": {},
   "source": [
    "### Functions\n",
    "- For the background, the following parametric function will be used\n",
    "$$exp \\left( 2 \\cdot \\frac{|x - a+ib|^2}{|x - c+id|^2} + f \\cdot (x - c) \\right)$$\n",
    "- For the signal, we will use either the Gaussian function\n",
    "$$\\mu \\cdot exp \\left( -\\frac{1}{2} \\frac{(x - x_0)^2}{\\sigma^2} \\right)$$\n",
    "or a Maxwell-Boltzmann distribution\n",
    "$$\\mu \\cdot \\frac{x^2}{\\sigma^3} \\cdot exp \\left( -\\frac{1}{2} \\frac{(x - x_0)^2}{\\sigma^2} \\right)$$\n",
    "depending on the theoretical model we assume.\n",
    "\n",
    "The total shape will be given by the sum of the two functions."
   ]
  },
  {
   "cell_type": "code",
   "execution_count": 2,
   "id": "0763f1b1",
   "metadata": {},
   "outputs": [],
   "source": [
    "def bkg(x,a,b,c,d,e,f):                                                   \n",
    "    return e**2*abs(x-a+1j*b)**2/abs(x-c+1j*d)**2+f*(x-c)\n",
    "\n",
    "def gaussian(x,x0,s,mu):\n",
    "    return mu * np.exp(-.5*((x-x0)/s)**2)\n",
    "    \n",
    "def maxwell(x,x0,s,mu):\n",
    "    return mu * x**2/s**3 * np.exp(-.5*((x-x0)/s)**2)\n",
    "    \n",
    "    \n",
    "def signal_gauss(x,a,b,c,d,e,f,x0,s,mu):\n",
    "    return bkg(x,a,b,c,d,e,f) + gaussian(x,x0,s,mu)\n",
    "    \n",
    "def signal_maxwell(x,a,b,c,d,e,f,x0,s,mu):\n",
    "    return bkg(x,a,b,c,d,e,f) + maxwell(x,x0,s,mu)"
   ]
  },
  {
   "cell_type": "markdown",
   "id": "fd5fc04d",
   "metadata": {},
   "source": [
    "### Background\n",
    "\n",
    "Parameters $a$ and $c$ need to be initialized to the cavity frequency."
   ]
  },
  {
   "cell_type": "code",
   "execution_count": 3,
   "id": "9a6d45c6",
   "metadata": {},
   "outputs": [],
   "source": [
    "def fit_bkg(freq, fft, weights, center, ref):\n",
    "    # set fit model\n",
    "    bkg_model = Model(bkg)\n",
    "    ps = bkg_model.make_params(a={'value':center, 'min':center*0.999, 'max':center*1.01},\n",
    "                               b=2e4,\n",
    "                               c={'value':center, 'min':center*0.999, 'max':center*1.01},\n",
    "                               d=2.2e4,\n",
    "                               e=1e-2*np.sqrt(ref),\n",
    "                               f=1e-12*ref)\n",
    "    # execute fit\n",
    "    result = bkg_model.fit(fft,x=freq,params=ps,weights=1/weights)\n",
    "    \n",
    "    return(result)"
   ]
  },
  {
   "cell_type": "markdown",
   "id": "f7878a4c",
   "metadata": {},
   "source": [
    "### Signal + Background\n",
    "\n",
    "Background parameters will be initialized with the results of a previous fit, and will remain constant to facilitate convergence of the signal part. The $\\sigma$ is set constant to 16 bins (default to 10.416 kHz), while the $x_0$ will be made to vary over the whole range of probed frequencies."
   ]
  },
  {
   "cell_type": "code",
   "execution_count": 4,
   "id": "3ceaf1f0",
   "metadata": {},
   "outputs": [],
   "source": [
    "def fit_sig(freq, fft, weights, x_0, res_bkg, signal, mu_init = 1e2, mu_vary = True):\n",
    "    \n",
    "    # take result of preliminary background fit to fix starting parameters\n",
    "    p = res_bkg.best_values\n",
    "    \n",
    "    # set fit model\n",
    "    sig_model = Model(signal)\n",
    "    ps = sig_model.make_params(a ={'value':p['a'], 'vary':False},\n",
    "                               b ={'value':p['b'], 'vary':False},\n",
    "                               c ={'value':p['c'], 'vary':False},\n",
    "                               d ={'value':p['d'], 'vary':False},\n",
    "                               e ={'value':p['e'], 'vary':False},\n",
    "                               f ={'value':p['f'], 'vary':False},\n",
    "                               mu={'value':mu_init, 'min':0, 'vary':mu_vary},\n",
    "                               x0={'value':x_0, 'vary':False},\n",
    "                               s ={'value':16*651, 'vary':False}) # fixed value to 16 bins\n",
    "\n",
    "    result = sig_model.fit(fft,x=freq,params=ps,weights=1/weights)\n",
    "    \n",
    "    return(result)"
   ]
  },
  {
   "cell_type": "markdown",
   "id": "be241cd8",
   "metadata": {},
   "source": [
    "### Plot Results\n",
    "\n",
    "The following plots will be shown:\n",
    "- Power vs. frequency, including the best fit function\n",
    "- Normalized residuals $\\frac{y_{fit} - y}{\\sigma}$\n",
    "- Distribution of normalized residual; ideally, it should be a Gaussian with mean = 0 and standard deviation = 1"
   ]
  },
  {
   "cell_type": "code",
   "execution_count": 5,
   "id": "30b054f6",
   "metadata": {},
   "outputs": [],
   "source": [
    "def plot_fit(freq, fft, weights, fit_result):\n",
    "    # prepare canvas\n",
    "    fig = plt.figure(figsize=(15,10))\n",
    "    gs = GridSpec(2, 2)\n",
    "    ax  = fig.add_subplot(gs[0,:])\n",
    "    ax1 = fig.add_subplot(gs[1,0])\n",
    "    ax2 = fig.add_subplot(gs[1,1])\n",
    "    \n",
    "    # plot data and best fit\n",
    "    ax.plot(freq,fft,'o',label='data')\n",
    "    ax.plot(freq,fit_result.best_fit,color='red',label='fit')\n",
    "    \n",
    "    fmin,fmax = min(freq),max(freq)\n",
    "    ax.set_xlim([fmin,fmax])\n",
    "    ax.legend()\n",
    "    \n",
    "    #residuals w.r.t. freq\n",
    "    fit_result.plot_residuals(ax=ax1)\n",
    "    \n",
    "    \n",
    "    # plot histogrm of residuals (with the fit)\n",
    "    #rangeMax=int(np.max(res_bkg.residual))+1\n",
    "    \n",
    "    ax2.hist(fit_result.residual,bins=30,density=True)#range=(-rangeMax,rangeMax))\n",
    "    \n",
    "    \n",
    "    #fit_res = norm.fit(res_bkg.residual, loc=0, scale=1)\n",
    "    #ax2.plot(np.linspace(-rangeMax,rangeMax,100),norm.pdf(np.linspace(-rangeMax,rangeMax,100),fit_res[0],fit_res[1]),color=\"red\")\n",
    "    #ax2.axvline(fit_res[0], color='black', linestyle='dashed', linewidth=1)\n",
    "    \n",
    "    #summary_text = \"mean: {}\\n std: {}\".format(np.round(fit_res[0],3),np.round(fit_res[1],3))\n",
    "    #ax2.text(0.9, 0.9, summary_text, transform=fig.gca().transAxes, ha='right', va='top')\n",
    "\n",
    "\n",
    "    # plot of residuals vs. freq and error band\n",
    "    fig3,ax3=plt.subplots(1,1,figsize=(18,5))\n",
    "    \n",
    "    ax3.scatter(freq,fit_result.residual*weights,label=\"residuals\")\n",
    "    ax3.plot(freq, weights,label=\"+$\\sigma$\")\n",
    "    ax3.plot(freq,-weights,label=\"-$\\sigma$\")\n",
    "    ax3.set_xlim([fmin,fmax])\n",
    "    ax3.set_title(\"Residuals vs freq\")\n",
    "    ax3.legend()\n",
    "    \n",
    "    plt.show()\n",
    "    return(fit_result)"
   ]
  }
 ],
 "metadata": {
  "kernelspec": {
   "display_name": "Python 3 (ipykernel)",
   "language": "python",
   "name": "python3"
  },
  "language_info": {
   "codemirror_mode": {
    "name": "ipython",
    "version": 3
   },
   "file_extension": ".py",
   "mimetype": "text/x-python",
   "name": "python",
   "nbconvert_exporter": "python",
   "pygments_lexer": "ipython3",
   "version": "3.9.12"
  }
 },
 "nbformat": 4,
 "nbformat_minor": 5
}
