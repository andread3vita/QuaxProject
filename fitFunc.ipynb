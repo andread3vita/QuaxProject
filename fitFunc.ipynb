{
 "cells": [
  {
   "cell_type": "markdown",
   "id": "3d2ca7d3",
   "metadata": {},
   "source": [
    "# Fit"
   ]
  },
  {
   "cell_type": "code",
   "execution_count": 1,
   "id": "8a09919e",
   "metadata": {},
   "outputs": [],
   "source": [
    "import numpy as np"
   ]
  },
  {
   "cell_type": "markdown",
   "id": "06bd760e",
   "metadata": {},
   "source": [
    "Fit functions:\n",
    "- for the background, the following parametric function will be used\n",
    "$$exp \\left( 2 \\cdot \\frac{|x - a+ib|^2}{|x - c+id|^2} + f \\cdot (x - c) \\right)$$\n",
    "- for the signal, we will use either the gaussian function\n",
    "$$\\mu \\cdot exp \\left( -\\frac{1}{2} \\frac{(x - x_0)^2}{\\sigma^2} \\right)$$\n",
    "or a Maxwell-Boltzmann distribution\n",
    "$$\\mu \\cdot \\frac{x^2}{\\sigma^3} \\cdot exp \\left( -\\frac{1}{2} \\frac{(x - x_0)^2}{\\sigma^2} \\right)$$\n",
    "depending on the theoretical model we assumed.\n",
    "\n",
    "The total shape will be given by the sum of the two functions."
   ]
  },
  {
   "cell_type": "code",
   "execution_count": null,
   "id": "f1321a6a",
   "metadata": {},
   "outputs": [],
   "source": [
    "def bkg(x,a,b,c,d,e,f):                                                   \n",
    "    return e**2*abs(x-a+1j*b)**2/abs(x-c+1j*d)**2+f*(x-c)\n",
    "\n",
    "def gaussian(x,x0,s,mu):\n",
    "    return mu * np.exp(-.5*((x-x0)/s)**2)\n",
    "    \n",
    "def maxwell(x,x0,s,mu):\n",
    "    return mu * x**2/s**3 * np.exp(-.5*((x-x0)/s)**2)\n",
    "    \n",
    "    \n",
    "def signal_gauss(x,a,b,c,d,e,f,x0,s,mu):\n",
    "    return bkg(x,a,b,c,d,e,f) + gaussian(x,x0,s,mu)\n",
    "    \n",
    "def signal_maxwell(x,a,b,c,d,e,f,x0,s,mu):\n",
    "    return bkg(x,a,b,c,d,e,f) + maxwell(x,x0,s,mu)"
   ]
  }
 ],
 "metadata": {
  "kernelspec": {
   "display_name": "Python 3 (ipykernel)",
   "language": "python",
   "name": "python3"
  },
  "language_info": {
   "codemirror_mode": {
    "name": "ipython",
    "version": 3
   },
   "file_extension": ".py",
   "mimetype": "text/x-python",
   "name": "python",
   "nbconvert_exporter": "python",
   "pygments_lexer": "ipython3",
   "version": "3.9.12"
  }
 },
 "nbformat": 4,
 "nbformat_minor": 5
}
