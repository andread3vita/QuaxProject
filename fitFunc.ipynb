{
 "cells": [
  {
   "cell_type": "markdown",
   "id": "b4e505c9",
   "metadata": {},
   "source": [
    "# Fits"
   ]
  },
  {
   "cell_type": "code",
   "execution_count": 1,
   "id": "1c774479",
   "metadata": {},
   "outputs": [],
   "source": [
    "import numpy as np\n",
    "from lmfit import Model"
   ]
  },
  {
   "cell_type": "markdown",
   "id": "22e275ba",
   "metadata": {},
   "source": [
    "Fit functions:\n",
    "- for the background, the following parametric function will be used\n",
    "$$exp \\left( 2 \\cdot \\frac{|x - a+ib|^2}{|x - c+id|^2} + f \\cdot (x - c) \\right)$$\n",
    "- for the signal, we will use either the gaussian function\n",
    "$$\\mu \\cdot exp \\left( -\\frac{1}{2} \\frac{(x - x_0)^2}{\\sigma^2} \\right)$$\n",
    "or a Maxwell-Boltzmann distribution\n",
    "$$\\mu \\cdot \\frac{x^2}{\\sigma^3} \\cdot exp \\left( -\\frac{1}{2} \\frac{(x - x_0)^2}{\\sigma^2} \\right)$$\n",
    "depending on the theoretical model we assumed.\n",
    "\n",
    "The total shape will be given by the sum of the two functions."
   ]
  },
  {
   "cell_type": "code",
   "execution_count": null,
   "id": "4dc8cad1",
   "metadata": {},
   "outputs": [],
   "source": [
    "def bkg(x,a,b,c,d,e,f):                                                   \n",
    "    return e**2*abs(x-a+1j*b)**2/abs(x-c+1j*d)**2+f*(x-c)\n",
    "\n",
    "def gaussian(x,x0,s,mu):\n",
    "    return mu * np.exp(-.5*((x-x0)/s)**2)\n",
    "    \n",
    "def maxwell(x,x0,s,mu):\n",
    "    return mu * x**2/s**3 * np.exp(-.5*((x-x0)/s)**2)\n",
    "    \n",
    "    \n",
    "def signal_gauss(x,a,b,c,d,e,f,x0,s,mu):\n",
    "    return bkg(x,a,b,c,d,e,f) + gaussian(x,x0,s,mu)\n",
    "    \n",
    "def signal_maxwell(x,a,b,c,d,e,f,x0,s,mu):\n",
    "    return bkg(x,a,b,c,d,e,f) + maxwell(x,x0,s,mu)"
   ]
  },
  {
   "cell_type": "markdown",
   "id": "18e7e7e6",
   "metadata": {},
   "source": [
    "## Background\n",
    "\n",
    "Parameters $a$ and $c$ will be initialized to the cavity frequency, "
   ]
  },
  {
   "cell_type": "code",
   "execution_count": null,
   "id": "127dbf76",
   "metadata": {},
   "outputs": [],
   "source": [
    "def fit_bkg(freq, fft, weights, center, ref):\n",
    "    # set fit model\n",
    "    bkg_model = Model(bkg)\n",
    "    ps = bkg_model.make_params(a={'value':center, 'min':center*0.999, 'max':center*1.01},\n",
    "                               b=2e4,\n",
    "                               c={'value':center, 'min':center*0.999, 'max':center*1.01},\n",
    "                               d=2.2e4,\n",
    "                               e=1e-2*np.sqrt(ref),\n",
    "                               f=1e-12*ref)\n",
    "    # execute fit\n",
    "    result = bkg_model.fit(fft,x=freq,params=ps,weights=1/weights)\n",
    "    \n",
    "    return(result)"
   ]
  }
 ],
 "metadata": {
  "kernelspec": {
   "display_name": "Python 3 (ipykernel)",
   "language": "python",
   "name": "python3"
  },
  "language_info": {
   "codemirror_mode": {
    "name": "ipython",
    "version": 3
   },
   "file_extension": ".py",
   "mimetype": "text/x-python",
   "name": "python",
   "nbconvert_exporter": "python",
   "pygments_lexer": "ipython3",
   "version": "3.9.12"
  }
 },
 "nbformat": 4,
 "nbformat_minor": 5
}
