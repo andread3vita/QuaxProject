{
 "cells": [
  {
   "cell_type": "markdown",
   "id": "3a01f3b5",
   "metadata": {},
   "source": [
    "# Multiple fit code"
   ]
  },
  {
   "cell_type": "code",
   "execution_count": 160,
   "id": "16f88df5",
   "metadata": {},
   "outputs": [],
   "source": [
    "import os\n",
    "import scipy\n",
    "import pandas as pd\n",
    "import numpy as np\n",
    "import matplotlib.pyplot as plt\n",
    "\n",
    "from math import factorial\n",
    "from scipy import optimize\n",
    "from matplotlib.pyplot import cm\n",
    "from lmfit import Model\n",
    "from matplotlib.gridspec import GridSpec\n",
    "from scipy.stats import poisson as pois\n",
    "from scipy.stats import norm"
   ]
  },
  {
   "cell_type": "markdown",
   "id": "6b7603bd",
   "metadata": {},
   "source": [
    "## Multiple loading (load + prep)"
   ]
  },
  {
   "cell_type": "code",
   "execution_count": 161,
   "id": "ebc3d78e",
   "metadata": {},
   "outputs": [],
   "source": [
    "def multipleLoad(path='db/',bin_width=651,nbins=100):\n",
    "    \n",
    "    def list_files(path):\n",
    "        listFile=[]\n",
    "        for root, dirs, files in os.walk(path):\n",
    "            for file in files:\n",
    "                listFile.append(os.path.join(root, file))\n",
    "        return listFile\n",
    "                \n",
    "    \n",
    "    file_list=list_files(path)\n",
    "    InfoDataset=[]\n",
    "    \n",
    "    for file in file_list:\n",
    "        \n",
    "        meta = pd.read_excel(file,sheet_name=0,header=None)\n",
    "        freq = pd.read_excel(file,sheet_name=1)             # frequecies\n",
    "        fft  = pd.read_excel(file,sheet_name=2)             # power\n",
    "    \n",
    "        data = pd.DataFrame({'freq':freq[1]})\n",
    "    \n",
    "        col = 0\n",
    "        for col_name in fft.columns: # load all the subruns\n",
    "            if col > 0:\n",
    "                data[f'fft{col-1}'] = fft[col_name]\n",
    "            col += 1\n",
    "        \n",
    "        common_column = 'freq'\n",
    "        \n",
    "        # List of columns to melt\n",
    "        columns_to_melt = data.columns[1:]  # Exclude the first column\n",
    "        common_column = 'freq'\n",
    "        columns_to_melt = data.columns[1:]  # Exclude the first column\n",
    "\n",
    "        # Flatten the DataFrame\n",
    "        data_flat = pd.melt(data, id_vars=common_column, value_vars=columns_to_melt, \n",
    "                            var_name='subRun', value_name='fft')\n",
    "\n",
    "        #cavity frequency and number of files per run\n",
    "        center = meta[1][3]\n",
    "        length = meta[1][8]\n",
    "        \n",
    "        N = length*2731 #N=1365500 if length=500\n",
    "        \n",
    "        # select window of 2*nbins bins around center\n",
    "        # default is to select 200 bins of 651 Hz\n",
    "        mask = (data_flat['freq']>center-bin_width*nbins) & (data_flat['freq']<center+bin_width*nbins)\n",
    "        cavdata = data_flat[mask].reset_index(drop=True)\n",
    "        \n",
    "        # scale data to yottowat\n",
    "        minW = np.min(cavdata[\"fft\"].copy()) # minimum power in the cavity\n",
    "        \n",
    "        # In general, the average measured power should be known and equal to the noise temperature of the system.\n",
    "        # So we can rescale the data so that the power at the cavity frequency sia T_noise k_b B (W)\n",
    "        ref = minW**(-1) * 3.5*1.38e-23*651/1e-24 #It is possibile to add an extra contribute to make them integers\n",
    "        \n",
    "        cavdata[\"fft\"] = ref * cavdata[\"fft\"]   #y' \n",
    "        \n",
    "        # set weights\n",
    "        #weights = cavdata\"fft\"]/np.sqrt(N)      # -> y'/sqrt(N)\n",
    "        weights = np.sqrt(ref)*np.sqrt(cavdata[\"fft\"])/np.sqrt(N)  #-> sqrt(sigma'/N)=ref*sqrt(y/N)\n",
    "        \n",
    "        Info={\"name\":file,\"length\":length,\"center\":center,\"cavdata\":cavdata,\"weights\":weights,\"ref\":ref}        \n",
    "        InfoDataset.append(Info)\n",
    "     \n",
    "    return(InfoDataset)"
   ]
  },
  {
   "cell_type": "markdown",
   "id": "53c28cec",
   "metadata": {},
   "source": [
    "## Multiple fit"
   ]
  },
  {
   "cell_type": "markdown",
   "id": "5a10b0ec",
   "metadata": {},
   "source": [
    "### Fit utilities"
   ]
  },
  {
   "cell_type": "code",
   "execution_count": 195,
   "id": "e5862720",
   "metadata": {},
   "outputs": [],
   "source": [
    "def fit_bkg(freq, fft, weights, center, ref):\n",
    "    # set fit model\n",
    "    bkg_model = Model(bkg)\n",
    "    ps = bkg_model.make_params(a={'value':center, 'min':center*0.999, 'max':center*1.01},\n",
    "                               b=2e4,\n",
    "                               c={'value':center, 'min':center*0.999, 'max':center*1.01},\n",
    "                               d=2.2e4,\n",
    "                               e=1e-2*np.sqrt(ref),\n",
    "                               f=1e-12*ref)\n",
    "    \n",
    "    # execute fit\n",
    "    result = bkg_model.fit(fft,x=freq,params=ps,weights=1/weights)\n",
    "    \n",
    "    return(result)"
   ]
  },
  {
   "cell_type": "code",
   "execution_count": 197,
   "id": "0fc379fc",
   "metadata": {},
   "outputs": [],
   "source": [
    "def fit_sig(freq, fft, weights, \n",
    "            signal,res_bkg,x_0,  mu_init = 1e-8, mu_vary = True):\n",
    "    \n",
    "    # take result of preliminary background fit to fix starting parameters\n",
    "    p = res_bkg.best_values\n",
    "    \n",
    "    # set fit model\n",
    "    sig_model = Model(signal)\n",
    "    ps = sig_model.make_params(a ={'value':p['a'], 'vary':False},\n",
    "                               b ={'value':p['b'], 'vary':False},\n",
    "                               c ={'value':p['c'], 'vary':False},\n",
    "                               d ={'value':p['d'], 'vary':False},\n",
    "                               e ={'value':p['e'], 'vary':False},\n",
    "                               f ={'value':p['f'], 'vary':False},\n",
    "                               mu={'value':mu_init, 'min':0, 'vary':mu_vary},\n",
    "                               x0={'value':x_0, 'vary':False},\n",
    "                               s ={'value':16*651, 'vary':False}) # fixed value to 16 bins\n",
    "\n",
    "    result = sig_model.fit(fft,x=freq,params=ps,weights=1/weights)\n",
    "    \n",
    "    return(result)"
   ]
  },
  {
   "cell_type": "code",
   "execution_count": 198,
   "id": "ba2cf6c0",
   "metadata": {},
   "outputs": [],
   "source": [
    "def gaussian(x,x0,s,mu):\n",
    "    return mu * np.exp(-.5*((x-x0)/s)**2)\n",
    "    \n",
    "def maxwell(x,x0,s,mu):\n",
    "    return mu * x**2/s**3 * np.exp(-.5*((x-x0)/s)**2)\n",
    "    \n",
    "def bkg(x,a,b,c,d,e,f):                                                   \n",
    "    return e**2*abs(x-a+1j*b)**2/abs(x-c+1j*d)**2+f*(x-c)\n",
    "    \n",
    "def signal_gauss(x,a,b,c,d,e,f,x0,s,mu):\n",
    "    return bkg(x,a,b,c,d,e,f) + gaussian(x,x0,s,mu)\n",
    "    \n",
    "def signal_maxwell(x,a,b,c,d,e,f,x0,s,mu):\n",
    "    return bkg(x,a,b,c,d,e,f) + maxwell(x,x0,s,mu)"
   ]
  },
  {
   "cell_type": "markdown",
   "id": "90a69b17",
   "metadata": {},
   "source": [
    "### Multiple fit function"
   ]
  },
  {
   "cell_type": "code",
   "execution_count": 199,
   "id": "38b92568",
   "metadata": {},
   "outputs": [],
   "source": [
    "def multipleFit(InfoDataset,fitSig=False,fitInfo={}):\n",
    "    fitResult=[]\n",
    "    for run in InfoDataset:\n",
    "        \n",
    "        bkg_result=fit_bkg(run[\"cavdata\"][\"freq\"],run[\"cavdata\"][\"fft\"],\n",
    "                           run[\"weights\"],run[\"center\"],run[\"ref\"])\n",
    "        \n",
    "        results={\"run\":run[\"name\"],\n",
    "                 \"background_bestFit\":bkg_result.params.valuesdict(),\"background_residuals\":bkg_result.residual}\n",
    "        \n",
    "        if fitSig:\n",
    "            sig_result=fit_sig(run[\"cavdata\"][\"freq\"],run[\"cavdata\"][\"fft\"],run[\"weights\"],\n",
    "                               fitInfo[\"signalFunc\"],bkg_result,\n",
    "                               fitInfo[\"x0\"],fitInfo[\"mu_init\"],fitInfo[\"mu_vary\"])\n",
    "                               \n",
    "            \n",
    "            results={\"run\":run[\"name\"],\n",
    "                     \"background\":{\"background_bestFit\":bkg_result.params.valuesdict(),\"background_residuals\":bkg_result.residual},\n",
    "                     \"signal\":{\"signal_bestFit\":sig_result.params.valuesdict(),\"signal_residuals\":sig_result.residual}}\n",
    "        \n",
    "        fitResult.append(results)\n",
    "    \n",
    "    return(fitResult)"
   ]
  },
  {
   "cell_type": "markdown",
   "id": "b0a5397b",
   "metadata": {},
   "source": [
    "## Fit test"
   ]
  },
  {
   "cell_type": "code",
   "execution_count": 202,
   "id": "7a23e985",
   "metadata": {},
   "outputs": [],
   "source": [
    "InfoDataset=multipleLoad(path='db/')\n",
    "fitInfo={\"signalFunc\":signal_gauss,\"x0\":0, \"mu_init\" :1e-8, \"mu_vary\": True}"
   ]
  },
  {
   "cell_type": "code",
   "execution_count": 203,
   "id": "a7580d76",
   "metadata": {},
   "outputs": [],
   "source": [
    "fits=multipleFit(InfoDataset,True,fitInfo)"
   ]
  }
 ],
 "metadata": {
  "kernelspec": {
   "display_name": "Python 3 (ipykernel)",
   "language": "python",
   "name": "python3"
  },
  "language_info": {
   "codemirror_mode": {
    "name": "ipython",
    "version": 3
   },
   "file_extension": ".py",
   "mimetype": "text/x-python",
   "name": "python",
   "nbconvert_exporter": "python",
   "pygments_lexer": "ipython3",
   "version": "3.9.16"
  }
 },
 "nbformat": 4,
 "nbformat_minor": 5
}
