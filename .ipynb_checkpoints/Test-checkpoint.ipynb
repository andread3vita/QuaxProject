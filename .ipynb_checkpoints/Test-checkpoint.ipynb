{
 "cells": [
  {
   "cell_type": "markdown",
   "id": "9c711389",
   "metadata": {},
   "source": [
    "# TEST\n",
    "\n",
    "Dummy notebook to test functions"
   ]
  },
  {
   "cell_type": "code",
   "execution_count": 3,
   "id": "9daedb22",
   "metadata": {},
   "outputs": [
    {
     "ename": "ModuleNotFoundError",
     "evalue": "No module named 'nbimporter'",
     "output_type": "error",
     "traceback": [
      "\u001b[0;31m---------------------------------------------------------------------------\u001b[0m",
      "\u001b[0;31mModuleNotFoundError\u001b[0m                       Traceback (most recent call last)",
      "Cell \u001b[0;32mIn[3], line 1\u001b[0m\n\u001b[0;32m----> 1\u001b[0m \u001b[38;5;28;01mimport\u001b[39;00m \u001b[38;5;21;01mnbimporter\u001b[39;00m\n\u001b[1;32m      2\u001b[0m \u001b[38;5;28;01mimport\u001b[39;00m \u001b[38;5;21;01mprepData\u001b[39;00m \u001b[38;5;28;01mas\u001b[39;00m \u001b[38;5;21;01mprep\u001b[39;00m\n\u001b[1;32m      3\u001b[0m \u001b[38;5;28;01mimport\u001b[39;00m \u001b[38;5;21;01mfitFunc\u001b[39;00m \u001b[38;5;28;01mas\u001b[39;00m \u001b[38;5;21;01mfits\u001b[39;00m\n",
      "\u001b[0;31mModuleNotFoundError\u001b[0m: No module named 'nbimporter'"
     ]
    }
   ],
   "source": [
    "import nbimporter\n",
    "import prepData as prep\n",
    "import fitFunc as fits\n",
    "import Statistics as stat\n",
    "import matplotlib.pyplot as plt"
   ]
  },
  {
   "cell_type": "markdown",
   "id": "89d3edff",
   "metadata": {},
   "source": [
    "### Test prepData"
   ]
  },
  {
   "cell_type": "code",
   "execution_count": null,
   "id": "e43f176b",
   "metadata": {},
   "outputs": [],
   "source": [
    "data,center,length = prep.load_dataset(395)\n",
    "freq, fft, weights, ref = prep.prep_data(data,center, length=length,subrun=0)"
   ]
  },
  {
   "cell_type": "code",
   "execution_count": null,
   "id": "044c29e8",
   "metadata": {},
   "outputs": [],
   "source": [
    "plt.plot(freq,fft)"
   ]
  },
  {
   "cell_type": "markdown",
   "id": "7a20d7c6",
   "metadata": {},
   "source": [
    "### Test Fits"
   ]
  },
  {
   "cell_type": "code",
   "execution_count": null,
   "id": "31cebe14",
   "metadata": {
    "scrolled": false
   },
   "outputs": [],
   "source": [
    "res_bkg = fits.fit_bkg(freq, fft, weights, center, ref)\n",
    "fits.plot_fit(freq, fft, weights, res_bkg)"
   ]
  },
  {
   "cell_type": "code",
   "execution_count": null,
   "id": "c6e64c9c",
   "metadata": {},
   "outputs": [],
   "source": [
    "mu0s=[]\n",
    "for x0 in freq:\n",
    "    res_sig = fits.fit_sig(freq, fft, weights, x0, res_bkg, fits.signal_gauss,par_vary=False)\n",
    "    mu0s.append(res_sig.best_values[\"mu\"])\n",
    "    "
   ]
  },
  {
   "cell_type": "code",
   "execution_count": null,
   "id": "730880fa",
   "metadata": {},
   "outputs": [],
   "source": [
    "import numpy as np\n",
    "freq[np.argmax(mu0s)]"
   ]
  },
  {
   "cell_type": "code",
   "execution_count": null,
   "id": "d857bafb",
   "metadata": {},
   "outputs": [],
   "source": [
    "plt.plot(freq,mu0s)"
   ]
  },
  {
   "cell_type": "code",
   "execution_count": null,
   "id": "3b2a22a8",
   "metadata": {
    "scrolled": false
   },
   "outputs": [],
   "source": [
    "res_sig = fits.fit_sig(freq, fft, weights, 10353409505.208334, res_bkg, fits.signal_gauss,par_vary=False)\n",
    "fits.plot_fit(freq, fft, weights, res_sig)"
   ]
  },
  {
   "cell_type": "markdown",
   "id": "e7a09b8a",
   "metadata": {},
   "source": [
    "### Test Statistics"
   ]
  },
  {
   "cell_type": "code",
   "execution_count": null,
   "id": "becf682f",
   "metadata": {},
   "outputs": [],
   "source": [
    "q0_obs = stat.lh_ratio(fft, res_bkg, res_sig)\n",
    "q0_obs"
   ]
  },
  {
   "cell_type": "code",
   "execution_count": null,
   "id": "fe68ee82",
   "metadata": {
    "scrolled": true
   },
   "outputs": [],
   "source": [
    "z_vec=[]\n",
    "i=0\n",
    "for x0 in freq:\n",
    "    z = stat.significance(freq, fft, weights, res_bkg, center, ref, x0, fits.signal_gauss, n=300, draw=False)\n",
    "    \n",
    "    print(\"trial:\",i)\n",
    "    if i%10 == 0:\n",
    "        print(\"x0:\",x0)\n",
    "        print(\"z:\",z)\n",
    "    \n",
    "    print(\"------------------------\")\n",
    "    i+=1\n",
    "    z_vec.append(z)"
   ]
  },
  {
   "cell_type": "code",
   "execution_count": null,
   "id": "e128debb",
   "metadata": {},
   "outputs": [],
   "source": [
    "plt.plot(freq,z_vec)"
   ]
  },
  {
   "cell_type": "code",
   "execution_count": null,
   "id": "a59c7179",
   "metadata": {},
   "outputs": [],
   "source": [
    "z_vec=np.array(z_vec)\n",
    "np.max(z_vec),freq[np.argmax(z_vec)]"
   ]
  },
  {
   "cell_type": "markdown",
   "id": "e4370eeb",
   "metadata": {},
   "source": [
    "### Significance plot examples"
   ]
  },
  {
   "cell_type": "code",
   "execution_count": null,
   "id": "899fa53f",
   "metadata": {},
   "outputs": [],
   "source": [
    "x0_1=10353412109.375\n",
    "x0_2=center\n",
    "x0_3=freq[116]"
   ]
  },
  {
   "cell_type": "code",
   "execution_count": null,
   "id": "815de2b1",
   "metadata": {
    "scrolled": false
   },
   "outputs": [],
   "source": [
    "z = stat.significance(freq, fft, weights, res_bkg, center, ref, x0_1, fits.signal_gauss, n=300, draw=True)\n",
    "z = stat.significance(freq, fft, weights, res_bkg, center, ref, x0_2, fits.signal_gauss, n=300, draw=True)\n",
    "z = stat.significance(freq, fft, weights, res_bkg, center, ref, x0_3, fits.signal_gauss, n=300, draw=True)"
   ]
  },
  {
   "cell_type": "markdown",
   "id": "e72ee37b",
   "metadata": {},
   "source": [
    "### Confidence interval"
   ]
  },
  {
   "cell_type": "code",
   "execution_count": null,
   "id": "4414b7db",
   "metadata": {},
   "outputs": [],
   "source": [
    "mu_fix=np.array([0])"
   ]
  },
  {
   "cell_type": "code",
   "execution_count": null,
   "id": "c349d70f",
   "metadata": {
    "scrolled": false
   },
   "outputs": [],
   "source": [
    "mu_ci = stat.CI(freq, fft, weights, res_bkg, center, ref, x0_1, mu_fix, fits.signal_gauss, n=500, verbose = True)\n",
    "mu_ci"
   ]
  },
  {
   "cell_type": "code",
   "execution_count": null,
   "id": "41f8b690",
   "metadata": {},
   "outputs": [],
   "source": []
  }
 ],
 "metadata": {
  "kernelspec": {
   "display_name": "Python 3 (ipykernel)",
   "language": "python",
   "name": "python3"
  },
  "language_info": {
   "codemirror_mode": {
    "name": "ipython",
    "version": 3
   },
   "file_extension": ".py",
   "mimetype": "text/x-python",
   "name": "python",
   "nbconvert_exporter": "python",
   "pygments_lexer": "ipython3",
   "version": "3.10.9"
  }
 },
 "nbformat": 4,
 "nbformat_minor": 5
}
