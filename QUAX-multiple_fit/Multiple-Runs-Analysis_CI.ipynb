{
 "cells": [
  {
   "cell_type": "markdown",
   "id": "034c0fce",
   "metadata": {},
   "source": [
    "# Multiple Runs Analysis\n",
    "\n",
    "Notebook to test functions for mutiple runs simultaneously."
   ]
  },
  {
   "cell_type": "code",
   "execution_count": 2,
   "id": "100613be",
   "metadata": {},
   "outputs": [],
   "source": [
    "import nbimporter\n",
    "import prepData as prep\n",
    "import fitFunc as fits\n",
    "import Statistics as stat\n",
    "\n",
    "import matplotlib.pyplot as plt\n",
    "import numpy as np \n",
    "import math"
   ]
  },
  {
   "cell_type": "markdown",
   "id": "0c8d5cd4",
   "metadata": {},
   "source": [
    "## Multiple Runs Test"
   ]
  },
  {
   "cell_type": "markdown",
   "id": "2ae88c20",
   "metadata": {},
   "source": [
    "### Fits"
   ]
  },
  {
   "cell_type": "code",
   "execution_count": null,
   "id": "0653ea63",
   "metadata": {},
   "outputs": [],
   "source": [
    "x0 = 1.0353e+10+410000"
   ]
  },
  {
   "cell_type": "code",
   "execution_count": null,
   "id": "a0eae2c2",
   "metadata": {},
   "outputs": [],
   "source": [
    "runsData = prep.Load()"
   ]
  },
  {
   "cell_type": "code",
   "execution_count": null,
   "id": "9609faa7",
   "metadata": {
    "scrolled": true
   },
   "outputs": [],
   "source": [
    "mins=np.empty(len(runsData))\n",
    "maxs=np.empty(len(runsData))\n",
    "\n",
    "for i_run,run in enumerate(runsData):\n",
    "    mins[i_run]=min(run[\"freq\"])\n",
    "    maxs[i_run]=max(run[\"freq\"])\n",
    "    \n",
    "    plt.plot(run[\"freq\"],run[\"fft\"])\n",
    "    print(mins[i_run],maxs[i_run])"
   ]
  },
  {
   "cell_type": "code",
   "execution_count": null,
   "id": "db5e08be",
   "metadata": {},
   "outputs": [],
   "source": [
    "np.min(mins),np.max(maxs)"
   ]
  },
  {
   "cell_type": "code",
   "execution_count": null,
   "id": "72d29563",
   "metadata": {},
   "outputs": [],
   "source": [
    "fitBkg = fits.multipleFitBKG(runsData)"
   ]
  },
  {
   "cell_type": "code",
   "execution_count": null,
   "id": "a4d9f6af",
   "metadata": {},
   "outputs": [],
   "source": [
    "fitSig = fits.multipleFitSIG(runsData, fitBkg, x_0=x0)"
   ]
  },
  {
   "cell_type": "markdown",
   "id": "1334d6a3",
   "metadata": {},
   "source": [
    "### Confidence interval"
   ]
  },
  {
   "cell_type": "code",
   "execution_count": 43,
   "id": "80ee2a98",
   "metadata": {},
   "outputs": [],
   "source": [
    "def multiple_calc_qmu(toyData, x0,mu_fix):\n",
    "    \n",
    "    n_toy = len(toyData)\n",
    "    \n",
    "    # compute likelihood ratio for toy dataset\n",
    "    q_mu = np.empty(n_toy)\n",
    "    for i_toy,toy in enumerate(toyData):\n",
    "        \n",
    "        toy_bkg_params = fits.multipleFitBKG(toy)\n",
    "        \n",
    "        fix_toy=fits.multipleFitSIG(toy, toy_bkg_params, x_0=x0,mu_init=mu_fix,mu_vary=False)\n",
    "        fitSig_toy=fits.multipleFitSIG(toy, toy_bkg_params, x_0=x0)\n",
    "        \n",
    "        q_mu[i_toy] = stat.multiple_lh_ratio(toy, \"fft\",fix_toy, \"sig_bestFit\",fitSig_toy,\"sig_bestFit\")\n",
    "        \n",
    "    return q_mu"
   ]
  },
  {
   "cell_type": "code",
   "execution_count": 48,
   "id": "bf5c0d79",
   "metadata": {},
   "outputs": [],
   "source": [
    "def multipleCI(InfoDataset, fitBkg, fitSig,toy_0,x_0, mu_fix,verbose=False,draw=False):\n",
    "    \n",
    "    n_toy = len(toy_0)\n",
    "    \n",
    "    # scan for mu\n",
    "    q_mu_obs_prev = 0            # save distribution and parameters\n",
    "    q_mu_prev = np.empty(n_toy)  # to plot optimal result\n",
    "    q0_prev = np.empty(n_toy)\n",
    "    \n",
    "    r_prev = 1e10\n",
    "    mu_95 = 0\n",
    "    \n",
    "    sign_prev = 0\n",
    "        \n",
    "    mu_test=mu_fix\n",
    "    cross_check=0\n",
    "    \n",
    "    all_mu=[mu_fix]\n",
    "    while True:\n",
    "        \n",
    "        fix = fits.multipleFitSIG(InfoDataset, fitBkg, x_0=x_0,mu_init=mu_test,mu_vary=False)\n",
    "        \n",
    "        # compute likelihood ratio of observed data\n",
    "        q_mu_obs = stat.multiple_lh_ratio(InfoDataset, \"fft\",\n",
    "                                       fix, \"sig_bestFit\",\n",
    "                                       fitSig, \"sig_bestFit\")\n",
    "        \n",
    "        if(verbose):\n",
    "            print(\"Mu: \", mu_test, \"   q(mu)_obs =\", q_mu_obs)\n",
    "        \n",
    "        # generate toy datasets from fixed mu\n",
    "        toy_fix = stat.multiple_toydataset(fix, n=n_toy, data_type=\"sig_bestFit\")\n",
    "        \n",
    "        q_mu=multiple_calc_qmu(toy_fix,x_0,mu_test)\n",
    "        q0=multiple_calc_qmu(toy_0,x_0,mu_test)\n",
    "        \n",
    "        # compute p-values\n",
    "        p_mu = stat.p_value(q_mu_obs, q_mu)\n",
    "        p_b  = stat.p_value(q_mu_obs, q0)\n",
    "        \n",
    "        # compute ratio\n",
    "        r = p_mu/p_b\n",
    "            \n",
    "        if(verbose):\n",
    "            print(\"p_mu =\", p_mu, \"  p_b =\", p_b, \"  ratio =\", r, \"\\n\")\n",
    "            \n",
    "        # check results to proceed with the mu scan:\n",
    "        # if the ratio is close eneough to target we save the results and stop\n",
    "        # else we check if we are under- or overshooting and correct the estimate\n",
    "        # if we cross the target we stop and take the best result between\n",
    "        # current and previous step\n",
    "        \n",
    "        if math.isnan(r):\n",
    "            break\n",
    "            \n",
    "        reached_target, crossed_target, is_current_worse = False, False, False\n",
    "        \n",
    "        reached_target = (np.abs(r - 0.05) <= 0.01)\n",
    "        if not reached_target:\n",
    "            sign = np.sign(r - 0.05)\n",
    "            crossed_target = (sign*sign_prev == -1)\n",
    "            \n",
    "            if crossed_target:\n",
    "                is_current_worse = (np.abs(r - 0.05) > np.abs(r_prev - 0.05))\n",
    "                cross_check+=1\n",
    "        \n",
    "        # update best estimate for every case except the last\n",
    "        if not is_current_worse:\n",
    "            q_mu_obs_prev = q_mu_obs            \n",
    "            q_mu_prev = q_mu  \n",
    "            q0_prev = q0\n",
    "            mu_95 = mu_test\n",
    "            \n",
    "        if reached_target or cross_check==3:\n",
    "            cross_check=0\n",
    "            break\n",
    "        \n",
    "        #adaptive step algorithm\n",
    "        step=0   \n",
    "        check=r-0.05\n",
    "        \n",
    "        #With r=0 is better to use a huge step\n",
    "        if r == 0:\n",
    "            check=0.60\n",
    "            \n",
    "        if np.abs(check) > 0.5:\n",
    "            step = sign*2\n",
    "        elif ((np.abs(check) > 0.2) and (np.abs(check) < 0.5)):\n",
    "            step = sign*7/5\n",
    "        elif ((np.abs(check) > 0.08) and (np.abs(check) < 0.2)):\n",
    "            step = sign\n",
    "        else:\n",
    "            step = sign*2/5\n",
    "            \n",
    "        # update mu if we did not exit the loop\n",
    "        mu_test = mu_test + step*5\n",
    "        r_prev = r\n",
    "        sign_prev = sign\n",
    "        \n",
    "        #check if the next mu has been already tested\n",
    "        if mu_test in all_mu:\n",
    "            break\n",
    "        else:\n",
    "            all_mu.append(mu_test)\n",
    "            \n",
    "    # plot significance distribution\n",
    "    if(draw):\n",
    "        stat.plot_lhratio(q_mu_obs_prev, q0_prev, q_mu_prev, x_0, mu_95)\n",
    "            \n",
    "    return(mu_95)"
   ]
  },
  {
   "cell_type": "code",
   "execution_count": 49,
   "id": "7af16f95",
   "metadata": {},
   "outputs": [],
   "source": [
    "def stat_test(InfoDataset,x_0,mu_fix=1.0,nToy=100,verbose=False,draw=False):\n",
    "    \n",
    "    #fit background once\n",
    "    fitBkg = fits.multipleFitBKG(InfoDataset)\n",
    "    \n",
    "    # generate toy datasets from bkg and fit them\n",
    "    toy_0 = stat.multiple_toydataset(fitBkg, n=nToy, data_type=\"bkg_bestFit\")\n",
    "    \n",
    "    mu_CI = np.empty(len(x_0))\n",
    "    for i_x0,x0 in enumerate(x_0):\n",
    "        \n",
    "        print(\"Testing x0:\",x0)\n",
    "        fitSig = fits.multipleFitSIG(InfoDataset, fitBkg, x_0=x0)\n",
    "        \n",
    "        if i_x0 == 0:\n",
    "            mu_CI[i_x0] = multipleCI(InfoDataset,fitBkg,fitSig,toy_0,x0,mu_fix,verbose,draw)\n",
    "        \n",
    "        else:\n",
    "            mu_CI[i_x0] = multipleCI(InfoDataset,fitBkg,fitSig,toy_0,x0,mu_CI[i_x0-1],verbose,draw)\n",
    "        \n",
    "        print(\"mu_CI:\",mu_CI[i_x0])\n",
    "        print(\"---------------------\")\n",
    "    \n",
    "    return mu_CI    "
   ]
  },
  {
   "cell_type": "code",
   "execution_count": 50,
   "id": "85134206",
   "metadata": {},
   "outputs": [
    {
     "data": {
      "text/plain": [
       "array([1.03532965e+10, 1.03533073e+10, 1.03533180e+10, 1.03533288e+10,\n",
       "       1.03533396e+10, 1.03533504e+10, 1.03533611e+10, 1.03533719e+10,\n",
       "       1.03533827e+10, 1.03533935e+10, 1.03534042e+10, 1.03534150e+10,\n",
       "       1.03534258e+10, 1.03534366e+10, 1.03534473e+10, 1.03534581e+10,\n",
       "       1.03534689e+10, 1.03534797e+10, 1.03534904e+10, 1.03535012e+10,\n",
       "       1.03535120e+10, 1.03535228e+10, 1.03535335e+10, 1.03535443e+10,\n",
       "       1.03535551e+10, 1.03535659e+10, 1.03535766e+10, 1.03535874e+10,\n",
       "       1.03535982e+10, 1.03536090e+10])"
      ]
     },
     "execution_count": 50,
     "metadata": {},
     "output_type": "execute_result"
    }
   ],
   "source": [
    "all_freq=np.linspace(10353286068+16*651, 10353286068+31*16*651,30)\n",
    "x0=all_freq\n",
    "runsData = prep.Load()\n",
    "\n",
    "x0"
   ]
  },
  {
   "cell_type": "code",
   "execution_count": null,
   "id": "9db5c511",
   "metadata": {
    "scrolled": false
   },
   "outputs": [
    {
     "name": "stdout",
     "output_type": "stream",
     "text": [
      "Testing x0: 10353296484.0\n",
      "Mu:  10    q(mu)_obs = 12.560410596284783\n",
      "p_mu = 0.0   p_b = 0.03   ratio = 0.0 \n",
      "\n",
      "Mu:  0.0    q(mu)_obs = -7.643393473699689e-09\n",
      "p_mu = 0.7   p_b = 0.77   ratio = 0.9090909090909091 \n",
      "\n"
     ]
    },
    {
     "data": {
      "image/png": "[encoded data removed]",
      "text/plain": [
       "<Figure size 576x360 with 1 Axes>"
      ]
     },
     "metadata": {
      "needs_background": "light"
     },
     "output_type": "display_data"
    },
    {
     "name": "stdout",
     "output_type": "stream",
     "text": [
      "mu_CI: 10.0\n",
      "---------------------\n",
      "Testing x0: 10353307259.172413\n",
      "Mu:  10.0    q(mu)_obs = 5.96060477694482\n",
      "p_mu = 0.7   p_b = 0.95   ratio = 0.7368421052631579 \n",
      "\n",
      "Mu:  20.0    q(mu)_obs = 34.12053330912022\n",
      "p_mu = 0.13   p_b = 0.95   ratio = 0.1368421052631579 \n",
      "\n",
      "Mu:  25.0    q(mu)_obs = 56.86064841719781\n",
      "p_mu = 0.03   p_b = 0.95   ratio = 0.031578947368421054 \n",
      "\n",
      "Mu:  23.0    q(mu)_obs = 47.07221126051081\n",
      "p_mu = 0.04   p_b = 0.95   ratio = 0.04210526315789474 \n",
      "\n"
     ]
    },
    {
     "data": {
      "image/png": "[encoded data removed]",
      "text/plain": [
       "<Figure size 576x360 with 1 Axes>"
      ]
     },
     "metadata": {
      "needs_background": "light"
     },
     "output_type": "display_data"
    },
    {
     "name": "stdout",
     "output_type": "stream",
     "text": [
      "mu_CI: 23.0\n",
      "---------------------\n",
      "Testing x0: 10353318034.344828\n",
      "Mu:  23.0    q(mu)_obs = 43.53785512608374\n",
      "p_mu = 0.12   p_b = 1.0   ratio = 0.12 \n",
      "\n",
      "Mu:  25.0    q(mu)_obs = 54.0913768432365\n",
      "p_mu = 0.06   p_b = 1.0   ratio = 0.06 \n",
      "\n"
     ]
    },
    {
     "data": {
      "image/png": "[encoded data removed]",
      "text/plain": [
       "<Figure size 576x360 with 1 Axes>"
      ]
     },
     "metadata": {
      "needs_background": "light"
     },
     "output_type": "display_data"
    },
    {
     "name": "stdout",
     "output_type": "stream",
     "text": [
      "mu_CI: 25.0\n",
      "---------------------\n",
      "Testing x0: 10353328809.51724\n",
      "Mu:  25.0    q(mu)_obs = 77.73871927184518\n",
      "p_mu = 0.0   p_b = 1.0   ratio = 0.0 \n",
      "\n",
      "Mu:  15.0    q(mu)_obs = 20.28261617111275\n",
      "p_mu = 0.41   p_b = 1.0   ratio = 0.41 \n",
      "\n",
      "Mu:  22.0    q(mu)_obs = 56.59822506551063\n",
      "p_mu = 0.03   p_b = 1.0   ratio = 0.03 \n",
      "\n",
      "Mu:  20.0    q(mu)_obs = 44.36301621520761\n",
      "p_mu = 0.07   p_b = 1.0   ratio = 0.07 \n",
      "\n"
     ]
    },
    {
     "data": {
      "image/png": "[encoded data removed]",
      "text/plain": [
       "<Figure size 576x360 with 1 Axes>"
      ]
     },
     "metadata": {
      "needs_background": "light"
     },
     "output_type": "display_data"
    },
    {
     "name": "stdout",
     "output_type": "stream",
     "text": [
      "mu_CI: 20.0\n",
      "---------------------\n",
      "Testing x0: 10353339584.689655\n",
      "Mu:  20.0    q(mu)_obs = 77.84380794374738\n",
      "p_mu = 0.0   p_b = 0.87   ratio = 0.0 \n",
      "\n",
      "Mu:  10.0    q(mu)_obs = 17.19458211669553\n"
     ]
    }
   ],
   "source": [
    "muCL=stat_test(runsData,x0,mu_fix=10,verbose=True,draw=True)"
   ]
  },
  {
   "cell_type": "code",
   "execution_count": null,
   "id": "cce0e84b",
   "metadata": {},
   "outputs": [],
   "source": [
    "muCL\n",
    "plt.plot(x0,muCL)"
   ]
  },
  {
   "cell_type": "markdown",
   "id": "d0a405c5",
   "metadata": {},
   "source": [
    "### test"
   ]
  },
  {
   "cell_type": "code",
   "execution_count": null,
   "id": "d7af8e50",
   "metadata": {},
   "outputs": [],
   "source": [
    "fitBkg = fits.multipleFitBKG(runsData)\n",
    "toy_0 = stat.multiple_toydataset(fitBkg, n=100, data_type=\"bkg_bestFit\")"
   ]
  },
  {
   "cell_type": "code",
   "execution_count": null,
   "id": "e296cd36",
   "metadata": {},
   "outputs": [],
   "source": []
  }
 ],
 "metadata": {
  "kernelspec": {
   "display_name": "Python 3 (ipykernel)",
   "language": "python",
   "name": "python3"
  },
  "language_info": {
   "codemirror_mode": {
    "name": "ipython",
    "version": 3
   },
   "file_extension": ".py",
   "mimetype": "text/x-python",
   "name": "python",
   "nbconvert_exporter": "python",
   "pygments_lexer": "ipython3",
   "version": "3.10.10"
  }
 },
 "nbformat": 4,
 "nbformat_minor": 5
}
