{
 "cells": [
  {
   "cell_type": "markdown",
   "id": "034c0fce",
   "metadata": {},
   "source": [
    "# Multiple Runs Analysis\n",
    "\n",
    "Notebook to test functions for mutiple runs simultaneously."
   ]
  },
  {
   "cell_type": "code",
   "execution_count": 1,
   "id": "100613be",
   "metadata": {},
   "outputs": [],
   "source": [
    "import nbimporter\n",
    "import prepData as prep\n",
    "import fitFunc as fits\n",
    "import Statistics as stat\n",
    "\n",
    "import matplotlib.pyplot as plt\n",
    "import numpy as np \n",
    "import math\n",
    "\n",
    "import multiprocessing"
   ]
  },
  {
   "cell_type": "markdown",
   "id": "0c8d5cd4",
   "metadata": {},
   "source": [
    "## Multiple Runs fit"
   ]
  },
  {
   "cell_type": "code",
   "execution_count": 2,
   "id": "0653ea63",
   "metadata": {},
   "outputs": [],
   "source": [
    "x0 = 1.0353e+10+410000"
   ]
  },
  {
   "cell_type": "code",
   "execution_count": 3,
   "id": "a0eae2c2",
   "metadata": {},
   "outputs": [],
   "source": [
    "runsData = prep.Load()"
   ]
  },
  {
   "cell_type": "code",
   "execution_count": null,
   "id": "9609faa7",
   "metadata": {
    "scrolled": true
   },
   "outputs": [],
   "source": [
    "mins=np.empty(len(runsData))\n",
    "maxs=np.empty(len(runsData))\n",
    "\n",
    "for i_run,run in enumerate(runsData):\n",
    "    mins[i_run]=min(run[\"freq\"])\n",
    "    maxs[i_run]=max(run[\"freq\"])\n",
    "    \n",
    "    plt.plot(run[\"freq\"],run[\"fft\"])\n",
    "    print(mins[i_run],maxs[i_run])"
   ]
  },
  {
   "cell_type": "code",
   "execution_count": null,
   "id": "db5e08be",
   "metadata": {},
   "outputs": [],
   "source": [
    "np.min(mins),np.max(maxs)"
   ]
  },
  {
   "cell_type": "code",
   "execution_count": null,
   "id": "72d29563",
   "metadata": {},
   "outputs": [],
   "source": [
    "fitBkg = fits.multipleFitBKG(runsData)"
   ]
  },
  {
   "cell_type": "code",
   "execution_count": null,
   "id": "a4d9f6af",
   "metadata": {},
   "outputs": [],
   "source": [
    "fitSig = fits.multipleFitSIG(runsData, fitBkg, x_0=x0)"
   ]
  },
  {
   "cell_type": "markdown",
   "id": "1334d6a3",
   "metadata": {},
   "source": [
    "## Confidence interval"
   ]
  },
  {
   "cell_type": "code",
   "execution_count": 4,
   "id": "80ee2a98",
   "metadata": {},
   "outputs": [],
   "source": [
    "def multiple_calc_qmu(toyData, x0,mu_fix):\n",
    "    \n",
    "    n_toy = len(toyData)\n",
    "    \n",
    "    # compute likelihood ratio for toy dataset\n",
    "    q_mu = np.empty(n_toy)\n",
    "    for i_toy,toy in enumerate(toyData):\n",
    "        \n",
    "        toy_bkg_params = fits.multipleFitBKG(toy)\n",
    "        \n",
    "        fix_toy=fits.multipleFitSIG(toy, toy_bkg_params, x_0=x0,mu_init=mu_fix,mu_vary=False)\n",
    "        fitSig_toy=fits.multipleFitSIG(toy, toy_bkg_params, x_0=x0)\n",
    "        \n",
    "        q_mu[i_toy] = stat.multiple_lh_ratio(toy, \"fft\",fix_toy, \"sig_bestFit\",fitSig_toy,\"sig_bestFit\")\n",
    "        \n",
    "    return q_mu"
   ]
  },
  {
   "cell_type": "code",
   "execution_count": 5,
   "id": "bf5c0d79",
   "metadata": {},
   "outputs": [],
   "source": [
    "def multipleCI(InfoDataset, fitBkg, fitSig,toy_0,x_0, mu_fix,verbose=False,draw=False):\n",
    "    \n",
    "    n_toy = len(toy_0)\n",
    "    \n",
    "    # scan for mu\n",
    "    q_mu_obs_prev = 0            # save distribution and parameters\n",
    "    q_mu_prev = np.empty(n_toy)  # to plot optimal result\n",
    "    q0_prev = np.empty(n_toy)\n",
    "    \n",
    "    r_prev = 1e10\n",
    "    mu_95 = 0\n",
    "    \n",
    "    sign_prev = 0\n",
    "        \n",
    "    mu_test=mu_fix\n",
    "    cross_check=0\n",
    "    \n",
    "    all_mu=[]\n",
    "    while True:\n",
    "                \n",
    "        if mu_test in all_mu:\n",
    "            break\n",
    "        \n",
    "        fix = fits.multipleFitSIG(InfoDataset, fitBkg, x_0=x_0,mu_init=mu_test,mu_vary=False)\n",
    "        \n",
    "        # compute likelihood ratio of observed data\n",
    "        q_mu_obs = stat.multiple_lh_ratio(InfoDataset, \"fft\",\n",
    "                                       fix, \"sig_bestFit\",\n",
    "                                       fitSig, \"sig_bestFit\")\n",
    "        \n",
    "        if(verbose):\n",
    "            print(\"Mu: \", mu_test, \"   q(mu)_obs =\", q_mu_obs)\n",
    "        \n",
    "        # generate toy datasets from fixed mu\n",
    "        toy_fix = stat.multiple_toydataset(fix, n=n_toy, data_type=\"sig_bestFit\")\n",
    "        \n",
    "        q_mu=multiple_calc_qmu(toy_fix,x_0,mu_test)\n",
    "        q0=multiple_calc_qmu(toy_0,x_0,mu_test)\n",
    "        \n",
    "        # compute p-values\n",
    "        p_mu = stat.p_value(q_mu_obs, q_mu)\n",
    "        p_b  = stat.p_value(q_mu_obs, q0)\n",
    "        \n",
    "        # compute ratio\n",
    "        r = p_mu/p_b\n",
    "            \n",
    "        if(verbose):\n",
    "            print(\"p_mu =\", p_mu, \"  p_b =\", p_b, \"  ratio =\", r)\n",
    "            print(cross_check)\n",
    "            print(all_mu, '\\n')\n",
    "            \n",
    "        # check results to proceed with the mu scan:\n",
    "        # if the ratio is close eneough to target we save the results and stop\n",
    "        # else we check if we are under- or overshooting and correct the estimate\n",
    "        # if we cross the target we stop and take the best result between\n",
    "        # current and previous step\n",
    "        \n",
    "                \n",
    "        #check if the next mu has been already tested\n",
    "        all_mu.append(mu_test)\n",
    "        \n",
    "        if math.isnan(r) or math.isinf(r):\n",
    "            mu_test = mu_test - 3\n",
    "            if mu_test < 0: mu_test=1\n",
    "            continue\n",
    "            \n",
    "        reached_target, crossed_target, is_current_worse = False, False, False\n",
    "        \n",
    "        reached_target = (np.abs(r - 0.05) <= 0.01)\n",
    "        if not reached_target:\n",
    "            sign = np.sign(r - 0.05)\n",
    "            crossed_target = (sign*sign_prev == -1)\n",
    "            \n",
    "            if crossed_target:\n",
    "                is_current_worse = (np.abs(r - 0.05) > np.abs(r_prev - 0.05))\n",
    "                cross_check+=1\n",
    "        \n",
    "        # update best estimate for every case except the last\n",
    "        if not is_current_worse:\n",
    "            q_mu_obs_prev = q_mu_obs            \n",
    "            q_mu_prev = q_mu  \n",
    "            q0_prev = q0\n",
    "            mu_95 = mu_test\n",
    "            \n",
    "        if reached_target or cross_check==2:\n",
    "            cross_check=0\n",
    "            break\n",
    "        \n",
    "        #adaptive step algorithm\n",
    "        if r==0: r=0.14\n",
    "        \n",
    "        step=0   \n",
    "        check=r-0.05\n",
    "        \n",
    "        if np.abs(check) > 0.5:\n",
    "            step = sign*2\n",
    "        elif ((np.abs(check) > 0.2) and (np.abs(check) < 0.5)):\n",
    "            step = sign*7/5\n",
    "        elif ((np.abs(check) > 0.08) and (np.abs(check) < 0.2)):\n",
    "            step = sign\n",
    "        else:\n",
    "            step = sign*2/5\n",
    "            \n",
    "        # update mu if we did not exit the loop\n",
    "        mu_test = mu_test + step*5\n",
    "        r_prev = r\n",
    "        sign_prev = sign\n",
    "\n",
    "            \n",
    "        if mu_test <= 0:\n",
    "            mu_test=1\n",
    "            \n",
    "    # plot significance distribution\n",
    "    if(draw):\n",
    "        stat.plot_lhratio(q_mu_obs_prev, q0_prev, q_mu_prev, x_0, mu_95)\n",
    "            \n",
    "    return(mu_95, r)"
   ]
  },
  {
   "cell_type": "code",
   "execution_count": 6,
   "id": "7af16f95",
   "metadata": {},
   "outputs": [],
   "source": [
    "def stat_test(InfoDataset,x_0,mu_fix=1.0,nToy=1000,verbose=False,draw=False):\n",
    "    \n",
    "    #fit background once\n",
    "    fitBkg = fits.multipleFitBKG(InfoDataset)\n",
    "    \n",
    "    # generate toy datasets from bkg and fit them\n",
    "    toy_0 = stat.multiple_toydataset(fitBkg, n=nToy, data_type=\"bkg_bestFit\")\n",
    "    \n",
    "    mu_CI = np.empty(len(x_0))\n",
    "    for i_x0,x0 in enumerate(x_0):\n",
    "        \n",
    "        print(\"Testing x0:\",x0)\n",
    "        fitSig = fits.multipleFitSIG(InfoDataset, fitBkg, x_0=x0)\n",
    "        \n",
    "        if i_x0 == 0:\n",
    "            mu_CI[i_x0], _ = multipleCI(InfoDataset,fitBkg,fitSig,toy_0,x0,mu_fix,verbose,draw)\n",
    "        \n",
    "        else:\n",
    "            mu_CI[i_x0], _ = multipleCI(InfoDataset,fitBkg,fitSig,toy_0,x0,mu_CI[i_x0-1],verbose,draw)\n",
    "        \n",
    "        print(\"mu_CI:\",mu_CI[i_x0])\n",
    "        print(\"---------------------\")\n",
    "    \n",
    "    return mu_CI    "
   ]
  },
  {
   "cell_type": "markdown",
   "id": "120732ed",
   "metadata": {},
   "source": [
    "### Test"
   ]
  },
  {
   "cell_type": "code",
   "execution_count": 7,
   "id": "85134206",
   "metadata": {},
   "outputs": [],
   "source": [
    "all_freq=np.linspace(10353286068+16*651, 10353286068+31*16*651,30)\n",
    "runsData = prep.Load()"
   ]
  },
  {
   "cell_type": "markdown",
   "id": "1dea434f",
   "metadata": {},
   "source": [
    "#### Range(0,5)"
   ]
  },
  {
   "cell_type": "code",
   "execution_count": null,
   "id": "8f5a22a7",
   "metadata": {},
   "outputs": [],
   "source": [
    "x0_1=all_freq[range(0,5)]\n",
    "print(x0_1)"
   ]
  },
  {
   "cell_type": "code",
   "execution_count": null,
   "id": "9db5c511",
   "metadata": {
    "scrolled": false
   },
   "outputs": [],
   "source": [
    "muCL1=stat_test(runsData,x0_1,mu_fix=10,verbose=True,draw=True)"
   ]
  },
  {
   "cell_type": "code",
   "execution_count": null,
   "id": "857431c5",
   "metadata": {},
   "outputs": [],
   "source": [
    "muCL1"
   ]
  },
  {
   "cell_type": "code",
   "execution_count": null,
   "id": "cce0e84b",
   "metadata": {},
   "outputs": [],
   "source": [
    "fig,ax=plt.subplots(2,1,figsize=(10,8),sharex=True)\n",
    "\n",
    "for run in runsData:\n",
    "    ax[0].plot(run[\"freq\"],run[\"fft\"],color=\"black\")\n",
    "\n",
    "for x_0 in x0_1:\n",
    "    ax[0].vlines(x0_1,31000,36000,color=\"green\",linestyle=\"dashed\")\n",
    "    \n",
    "ax[1].plot(x0_1,muCL1)"
   ]
  },
  {
   "cell_type": "markdown",
   "id": "5a0b3af6",
   "metadata": {},
   "source": [
    "#### Range(5,10)"
   ]
  },
  {
   "cell_type": "code",
   "execution_count": null,
   "id": "d299ac4a",
   "metadata": {},
   "outputs": [],
   "source": [
    "x0_2=all_freq[range(5,10)]\n",
    "print(x0_2)"
   ]
  },
  {
   "cell_type": "code",
   "execution_count": null,
   "id": "093079a5",
   "metadata": {
    "scrolled": true
   },
   "outputs": [],
   "source": [
    "muCL2=stat_test(runsData,x0_2,mu_fix=13,verbose=True,draw=True)"
   ]
  },
  {
   "cell_type": "code",
   "execution_count": null,
   "id": "be782b88",
   "metadata": {},
   "outputs": [],
   "source": [
    "muCL2"
   ]
  },
  {
   "cell_type": "code",
   "execution_count": null,
   "id": "f3804629",
   "metadata": {},
   "outputs": [],
   "source": [
    "fig,ax=plt.subplots(2,1,figsize=(10,8),sharex=True)\n",
    "\n",
    "for run in runsData:\n",
    "    ax[0].plot(run[\"freq\"],run[\"fft\"],color=\"black\")\n",
    "\n",
    "for x_0 in x0_2:\n",
    "    ax[0].vlines(x0_2,31000,36000,color=\"green\",linestyle=\"dashed\")\n",
    "    \n",
    "ax[1].plot(x0_2,muCL2)"
   ]
  },
  {
   "cell_type": "markdown",
   "id": "548867c0",
   "metadata": {},
   "source": [
    "#### Range(10,15)"
   ]
  },
  {
   "cell_type": "code",
   "execution_count": null,
   "id": "51066b84",
   "metadata": {},
   "outputs": [],
   "source": [
    "x0_3=all_freq[range(10,15)]\n",
    "x0_3 = x0_3[1]\n",
    "print(x0_3)"
   ]
  },
  {
   "cell_type": "code",
   "execution_count": null,
   "id": "981f0304",
   "metadata": {},
   "outputs": [],
   "source": [
    "muCL3=stat_test(runsData,[x0_3],mu_fix=10,nToy=1500,verbose=True,draw=True)"
   ]
  },
  {
   "cell_type": "code",
   "execution_count": null,
   "id": "8f3fcf5e",
   "metadata": {},
   "outputs": [],
   "source": [
    "fig,ax=plt.subplots(2,1,figsize=(10,8),sharex=True)\n",
    "\n",
    "for run in runsData:\n",
    "    ax[0].plot(run[\"freq\"],run[\"fft\"],color=\"black\")\n",
    "\n",
    "for x_0 in x0_3:\n",
    "    ax[0].vlines(x0_3,31000,36000,color=\"green\",linestyle=\"dashed\")\n",
    "    \n",
    "ax[1].plot(x0_3,muCL3)"
   ]
  },
  {
   "cell_type": "markdown",
   "id": "12be0173",
   "metadata": {},
   "source": [
    "#### Range(15,20)"
   ]
  },
  {
   "cell_type": "code",
   "execution_count": null,
   "id": "fcfed096",
   "metadata": {},
   "outputs": [],
   "source": [
    "x0_4=all_freq[range(15,20)]\n",
    "print(x0_4)\n",
    "\n",
    "#It is necessary to find the appropriate initial mu\n",
    "mu_fix4 = "
   ]
  },
  {
   "cell_type": "code",
   "execution_count": null,
   "id": "a5a173ea",
   "metadata": {},
   "outputs": [],
   "source": [
    "muCL4=stat_test(runsData,x0_4,mu_fix=mu_fix4,verbose=True,draw=True)"
   ]
  },
  {
   "cell_type": "markdown",
   "id": "06bf071d",
   "metadata": {},
   "source": [
    "#### Range(20,25)"
   ]
  },
  {
   "cell_type": "code",
   "execution_count": null,
   "id": "e507559b",
   "metadata": {},
   "outputs": [],
   "source": [
    "x0_5=all_freq[range(20,25)]\n",
    "print(x0_5)\n",
    "\n",
    "#It is necessary to find the appropriate initial mu\n",
    "mu_fix5 = "
   ]
  },
  {
   "cell_type": "code",
   "execution_count": null,
   "id": "19783797",
   "metadata": {},
   "outputs": [],
   "source": [
    "muCL5=stat_test(runsData,x0_5,mu_fix=mu_fix5,verbose=True,draw=True)"
   ]
  },
  {
   "cell_type": "markdown",
   "id": "cea70b3f",
   "metadata": {},
   "source": [
    "#### Range(25,30)"
   ]
  },
  {
   "cell_type": "code",
   "execution_count": null,
   "id": "72b4d93e",
   "metadata": {},
   "outputs": [],
   "source": [
    "x0_6=all_freq[range(25,30)]\n",
    "print(x0_6)\n",
    "\n",
    "#It is necessary to find the appropriate initial mu\n",
    "mu_fix6 = "
   ]
  },
  {
   "cell_type": "code",
   "execution_count": null,
   "id": "a8731dd8",
   "metadata": {},
   "outputs": [],
   "source": [
    "muCL6=stat_test(runsData,x0_6,mu_fix=mu_fix6,verbose=True,draw=True)"
   ]
  },
  {
   "cell_type": "markdown",
   "id": "883b27ce",
   "metadata": {},
   "source": [
    "## Embarassing parallelization"
   ]
  },
  {
   "cell_type": "code",
   "execution_count": null,
   "id": "8b6cd71b",
   "metadata": {},
   "outputs": [],
   "source": [
    "def stat_test2(InfoDataset,x_0,mu_fix=1.0,nToy=1000,verbose=False,draw=False):\n",
    "    \n",
    "    #fit background once\n",
    "    fitBkg = fits.multipleFitBKG(InfoDataset)\n",
    "    \n",
    "    # generate toy datasets from bkg and fit them\n",
    "    toy_0 = stat.multiple_toydataset(fitBkg, n=nToy, data_type=\"bkg_bestFit\")\n",
    "    \n",
    "    mu_CI = np.empty(len(x_0))\n",
    "    r = np.empty(len(x_0))\n",
    "    for i_x0,x0 in enumerate(x_0):\n",
    "\n",
    "        \n",
    "        fitSig = fits.multipleFitSIG(InfoDataset, fitBkg, x_0=x0)\n",
    "        \n",
    "        if i_x0 == 0:\n",
    "            mu_CI[i_x0], r[i_x0] = multipleCI(InfoDataset,fitBkg,fitSig,toy_0,x0,mu_fix,verbose,draw)\n",
    "        \n",
    "        else:\n",
    "            mu_CI[i_x0], r[i_x0] = multipleCI(InfoDataset,fitBkg,fitSig,toy_0,x0,mu_CI[i_x0-1],verbose,draw)\n",
    "        \n",
    "        # for intermediate check\n",
    "        print(x0, mu_CI[i_x0], '\\n', '\\n')\n",
    "        \n",
    "    print(x_0)\n",
    "    print(mu_CI)\n",
    "    \n",
    "    return np.array([x_0, mu_CI, r])"
   ]
  },
  {
   "cell_type": "code",
   "execution_count": null,
   "id": "234b8bf8",
   "metadata": {},
   "outputs": [],
   "source": [
    "import multiprocess as mp\n",
    "\n",
    "def stat_test_parallel(runsData, x0, mu_init, njobs=10):\n",
    "    \n",
    "    x_0 = np.split(x0, njobs)\n",
    "    manager = mp.Manager()\n",
    "    results = manager.list()\n",
    "    \n",
    "    def worker(runsData, x_0, mu_init, results):\n",
    "        result = stat_test2(runsData, x_0, mu_init)\n",
    "        results.append(result)\n",
    "    \n",
    "    processes = []\n",
    "    for i in range(njobs):\n",
    "        p = mp.Process(target=worker, args=(runsData, x_0[i], mu_init[i], results))\n",
    "        processes.append(p)\n",
    "        p.start()\n",
    "    \n",
    "    for p in processes:\n",
    "        p.join()\n",
    "        \n",
    "    return list(results)"
   ]
  },
  {
   "cell_type": "code",
   "execution_count": null,
   "id": "a428b8b9",
   "metadata": {},
   "outputs": [
    {
     "name": "stdout",
     "output_type": "stream",
     "text": [
      "[1.03532965e+10 1.03533073e+10]\n",
      "Testing x0: 10353296484.0\n",
      "Mu:  10    q(mu)_obs = 12.56040768821913\n"
     ]
    }
   ],
   "source": [
    "x0_1=all_freq[range(0,2)]\n",
    "print(x0_1)\n",
    "\n",
    "muCL1=stat_test(runsData,x0_1,mu_fix=10,verbose=True,draw=True)\n",
    "\n",
    "fig,ax=plt.subplots(2,1,figsize=(10,8),sharex=True)\n",
    "\n",
    "for run in runsData:\n",
    "    ax[0].plot(run[\"freq\"],run[\"fft\"],color=\"black\")\n",
    "\n",
    "for x_0 in x0_1:\n",
    "    ax[0].vlines(x0_1,31000,36000,color=\"green\",linestyle=\"dashed\")\n",
    "    \n",
    "ax[1].plot(x0_1,muCL1)"
   ]
  },
  {
   "cell_type": "markdown",
   "id": "827a5732",
   "metadata": {},
   "source": [
    "### Test"
   ]
  },
  {
   "cell_type": "code",
   "execution_count": null,
   "id": "57114169",
   "metadata": {},
   "outputs": [],
   "source": [
    "all_freq=np.linspace(10353286068+16*651, 10353286068+31*16*651,30)\n",
    "mu_init=[10,13,21,30,20,20]\n",
    "\n",
    "all_freq=all_freq[:2]\n",
    "mu_init = [10,10]\n",
    "\n",
    "runsData = prep.Load()"
   ]
  },
  {
   "cell_type": "code",
   "execution_count": null,
   "id": "d20ed29a",
   "metadata": {},
   "outputs": [],
   "source": [
    "muCI_results=stat_test_parallel(runsData,all_freq,mu_init,len(mu_init))"
   ]
  },
  {
   "cell_type": "code",
   "execution_count": null,
   "id": "e9328a20",
   "metadata": {},
   "outputs": [],
   "source": [
    "k = np.array(muCI_results)\n",
    "k1 = k.reshape(2,3)\n",
    "k1"
   ]
  },
  {
   "cell_type": "code",
   "execution_count": null,
   "id": "803ec88c",
   "metadata": {},
   "outputs": [],
   "source": [
    "plt.plot(k1[:,0], k1[:,1], 'o')\n",
    "plt.show()"
   ]
  },
  {
   "cell_type": "code",
   "execution_count": null,
   "id": "c0293327",
   "metadata": {},
   "outputs": [],
   "source": [
    "plt.plot(k1[:,0], k1[:,2], 'o')\n",
    "plt.axhline(0.05)\n",
    "plt.show()"
   ]
  },
  {
   "cell_type": "code",
   "execution_count": null,
   "id": "5c0d6664",
   "metadata": {},
   "outputs": [],
   "source": []
  },
  {
   "cell_type": "code",
   "execution_count": null,
   "id": "ae070a7f",
   "metadata": {},
   "outputs": [],
   "source": [
    "muCI_results=stat_test_parallel(runsData,all_freq,mu_init,len(mu_init))"
   ]
  },
  {
   "cell_type": "code",
   "execution_count": null,
   "id": "57869bb1",
   "metadata": {},
   "outputs": [],
   "source": [
    "result=np.array([[10353511987.448277, 10.0], \n",
    "[10353458111.586206, 33.0 ],\n",
    "[10353296484.0, 5.0],\n",
    "[10353565863.310345, 15.0],\n",
    "[10353468886.758621, 33.0], \n",
    "[10353350359.862068, 33.0],\n",
    "[10353307259.172413, 22.0],\n",
    "[10353522762.62069, 21.0],\n",
    "[10353533537.793104, 26.0],\n",
    "[10353479661.931034, 19.0],\n",
    "[10353361135.034483, 25.0],\n",
    "[10353318034.344828, 25.0],\n",
    "[10353576638.48276, 33.0],\n",
    "[10353490437.103449, 19.0],\n",
    "[10353404235.724138, 60.0],\n",
    "[10353328809.51724, 21.0],               \n",
    "[10353544312.965517, 37.0],\n",
    "[10353501212.275862, 11.0],\n",
    "[10353587413.655172, 51.0],\n",
    "[10353371910.206896, 8.0],\n",
    "[10353339584.689655, 13.0],\n",
    "[10353555088.137932, 24.0],\n",
    "[10353382685.37931, 18.0],\n",
    "[10353393460.551723, 14.0],\n",
    "[10353598188.827587, 87.0],\n",
    "[10353415010.896551, 11.0],\n",
    "[10353425786.068966, 17.0],\n",
    "[10353436561.241379, 8.0],\n",
    "[10353447336.413794, 35.0],\n",
    "[10353608964.0, 439.0]])"
   ]
  },
  {
   "cell_type": "code",
   "execution_count": null,
   "id": "5a4368a3",
   "metadata": {},
   "outputs": [],
   "source": [
    "plt.plot(result[:,0], result[:,1], 'o')"
   ]
  },
  {
   "cell_type": "code",
   "execution_count": null,
   "id": "90e43911",
   "metadata": {},
   "outputs": [],
   "source": [
    "# inizio 12:20"
   ]
  },
  {
   "cell_type": "code",
   "execution_count": null,
   "id": "0a27886e",
   "metadata": {},
   "outputs": [],
   "source": [
    "# 23 alle 13.31 con valore mu=18\n",
    "# 24 alle 13.36 con valore mu=14\n",
    "# 25 alle 13.49 con valore mu=87\n",
    "# 26 alle 14.08 con valore mu=11\n",
    "# 27 alle 14.40 con valore mu=17"
   ]
  }
 ],
 "metadata": {
  "kernelspec": {
   "display_name": "Python 3 (ipykernel)",
   "language": "python",
   "name": "python3"
  },
  "language_info": {
   "codemirror_mode": {
    "name": "ipython",
    "version": 3
   },
   "file_extension": ".py",
   "mimetype": "text/x-python",
   "name": "python",
   "nbconvert_exporter": "python",
   "pygments_lexer": "ipython3",
   "version": "3.10.9"
  }
 },
 "nbformat": 4,
 "nbformat_minor": 5
}
