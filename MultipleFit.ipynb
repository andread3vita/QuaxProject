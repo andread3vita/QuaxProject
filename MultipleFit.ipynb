{
 "cells": [
  {
   "cell_type": "markdown",
   "id": "3a01f3b5",
   "metadata": {},
   "source": [
    "# Multiple fit code"
   ]
  },
  {
   "cell_type": "code",
   "execution_count": 57,
   "id": "16f88df5",
   "metadata": {},
   "outputs": [],
   "source": [
    "import os\n",
    "import scipy\n",
    "import pandas as pd\n",
    "import numpy as np\n",
    "import matplotlib.pyplot as plt\n",
    "\n",
    "from math import factorial\n",
    "from scipy import optimize\n",
    "from matplotlib.pyplot import cm\n",
    "from lmfit import Model\n",
    "from matplotlib.gridspec import GridSpec\n",
    "from scipy.stats import poisson as pois\n",
    "from scipy.stats import norm\n",
    "\n",
    "import nbimporter\n",
    "import fitFunc as fits\n",
    "\n",
    "from symfit import variables, parameters, Fit\n",
    "import symfit as sm\n",
    "import numpy as np\n",
    "\n",
    "import matplotlib.pyplot as plt\n",
    "import numpy as np\n",
    "from scipy.optimize import curve_fit"
   ]
  },
  {
   "cell_type": "markdown",
   "id": "6b7603bd",
   "metadata": {},
   "source": [
    "## Multiple loading (load + prep)"
   ]
  },
  {
   "cell_type": "code",
   "execution_count": 118,
   "id": "ebc3d78e",
   "metadata": {},
   "outputs": [],
   "source": [
    "def multipleLoad(path='db/',bin_width=651,nbins=100):\n",
    "    \n",
    "    def list_files(path):\n",
    "        listFile=[]\n",
    "        for root, dirs, files in os.walk(path):\n",
    "            for file in files:\n",
    "                listFile.append(os.path.join(root, file))\n",
    "        return listFile\n",
    "                \n",
    "    \n",
    "    file_list=list_files(path)\n",
    "    InfoDataset=[]\n",
    "    \n",
    "    for file in file_list:\n",
    "        \n",
    "        meta = pd.read_excel(file,sheet_name=0,header=None)\n",
    "        freq = pd.read_excel(file,sheet_name=1)             # frequecies\n",
    "        fft  = pd.read_excel(file,sheet_name=2)             # power\n",
    "    \n",
    "        data = pd.DataFrame({'freq':freq[1]})\n",
    "    \n",
    "        col = 0\n",
    "        for col_name in fft.columns: # load all the subruns\n",
    "            if col > 0:\n",
    "                data[f'fft{col-1}'] = fft[col_name]\n",
    "            col += 1\n",
    "        #cavity frequency and number of files per run\n",
    "        center = meta[1][3]\n",
    "        length = meta[1][8]\n",
    "        N = length*2731 #N=1365500 if length=500\n",
    "        \n",
    "        mask = (data['freq']>center-bin_width*nbins) & (data['freq']<center+bin_width*nbins)\n",
    "        cavdata = data[mask].reset_index(drop=True)\n",
    "        \n",
    "        cavdata[\"fft\"] = cavdata.iloc[:,1:].mean(axis=1)\n",
    "        cavdata=cavdata[[\"freq\",\"fft\"]]\n",
    "        \n",
    "        minW = np.min(cavdata[\"fft\"].copy()) # minimum power in the cavity\n",
    "        \n",
    "        # In general, the average measured power should be known and equal to the noise temperature of the system.\n",
    "        # So we can rescale the data so that the power at the cavity frequency sia T_noise k_b B (W)\n",
    "        ref = minW**(-1) * 3.5*1.38e-23*651/1e-24 \n",
    "        \n",
    "        cavdata[\"fft\"] = ref * cavdata[\"fft\"]   #y' \n",
    "        \n",
    "        # set weights -> sqrt(sigma'/N)=ref*sqrt(y/N)\n",
    "        weights = np.sqrt(ref)*np.sqrt(cavdata[\"fft\"])/np.sqrt(N)         \n",
    "        \n",
    "        Info={\"name\":file,\"length\":length,\"center\":center,\"cavdata\":cavdata,\"weights\":weights,\"ref\":ref} \n",
    "        InfoDataset.append(Info)\n",
    "            \n",
    "    return(InfoDataset)"
   ]
  },
  {
   "cell_type": "markdown",
   "id": "53c28cec",
   "metadata": {},
   "source": [
    "## Multiple fit"
   ]
  },
  {
   "cell_type": "code",
   "execution_count": 124,
   "id": "38b92568",
   "metadata": {},
   "outputs": [],
   "source": [
    "def multipleFitBKG(InfoDataset):\n",
    "    \n",
    "    fitResult=[]\n",
    "    for run in InfoDataset:\n",
    "        bkg_result=fits.fit_bkg(run[\"cavdata\"][\"freq\"],run[\"cavdata\"][\"fft\"],\n",
    "                                run['weights'],run[\"center\"],run[\"ref\"])\n",
    "            \n",
    "        results={\"run\":run[\"name\"],\n",
    "                 \"background_bestParams\":bkg_result.params.valuesdict(),\n",
    "                 \"background_residuals\":bkg_result.residual,\n",
    "                 \"background_bestfit\":bkg_result.best_fit}\n",
    "            \n",
    "        fitResult.append(results)\n",
    "    \n",
    "    return(fitResult)"
   ]
  },
  {
   "cell_type": "code",
   "execution_count": 133,
   "id": "14b5d101",
   "metadata": {},
   "outputs": [],
   "source": [
    "def multipleFitSIG(InfoDataset,fitBkg,x0_,mu_=1,sigma_=16*651):\n",
    "    \n",
    "    #variables\n",
    "    xs=variables(', '.join('x_{}'.format(i) for i in range(1, len(fitBkg)+1)))\n",
    "    ys=variables(', '.join('y_{}'.format(i) for i in range(1, len(fitBkg)+1)))\n",
    "    \n",
    "    #specific parameters\n",
    "    ap=parameters(', '.join('a_{}'.format(i) for i in range(1, len(fitBkg)+1)))\n",
    "    bp=parameters(', '.join('b_{}'.format(i) for i in range(1, len(fitBkg)+1)))\n",
    "    cp=parameters(', '.join('c_{}'.format(i) for i in range(1, len(fitBkg)+1)))\n",
    "    dp=parameters(', '.join('d_{}'.format(i) for i in range(1, len(fitBkg)+1)))\n",
    "    ep=parameters(', '.join('e_{}'.format(i) for i in range(1, len(fitBkg)+1)))\n",
    "    fp=parameters(', '.join('f_{}'.format(i) for i in range(1, len(fitBkg)+1)))\n",
    "    \n",
    "    for i in range(len(fitBkg)):\n",
    "        ap[i].fixed=fits_bkg[i][\"background_bestParams\"][\"a\"]\n",
    "        bp[i].fixed=fits_bkg[i][\"background_bestParams\"][\"b\"]\n",
    "        cp[i].fixed=fits_bkg[i][\"background_bestParams\"][\"c\"]\n",
    "        dp[i].fixed=fits_bkg[i][\"background_bestParams\"][\"d\"]\n",
    "        ep[i].fixed=fits_bkg[i][\"background_bestParams\"][\"e\"]\n",
    "        fp[i].fixed=fits_bkg[i][\"background_bestParams\"][\"f\"]\n",
    "    \n",
    "    #common parameters\n",
    "    x0,mu,sigma=parameters(\"x0,mu,sigma\")\n",
    "    \n",
    "    x0.fixed=x0_\n",
    "    sigma.fixed=sigma_\n",
    "    mu.value=mu_\n",
    "    \n",
    "    model_dict = {\n",
    "            y: e**2*sm.Abs(x-a+1*sm.I*b)**2/sm.Abs(x-c+1*sm.I*d)**2+f*(x-c) \n",
    "                + mu*(1/(sm.sqrt(2*sm.pi)*sigma)) * sm.exp(-.5*((x-x0)/sigma)**2)\n",
    "            \n",
    "            for x, y,a,b,c,d,e,f in zip(xs, ys, ap,bp,cp,dp,ep,fp)\n",
    "        }\n",
    "    \n",
    "    x=np.empty((len(fitBkg),200))\n",
    "    y=np.empty((len(fitBkg),200))\n",
    "    \n",
    "    i=0\n",
    "    for run in InfoDataset:\n",
    "        x[i]=run[\"cavdata\"][\"freq\"]\n",
    "        y[i]=run[\"cavdata\"][\"fft\"]\n",
    "        i+=1\n",
    "            \n",
    "    fit = Fit(model_dict, \n",
    "                    x_1=x[0], y_1=y[0],\n",
    "                    x_2=x[1], y_2=y[1],\n",
    "                    x_3=x[2], y_3=y[2],\n",
    "                    x_4=x[3], y_4=y[3],\n",
    "                    x_5=x[4], y_5=y[4],\n",
    "                    x_6=x[5], y_6=y[5],\n",
    "                    x_7=x[6], y_7=y[6],\n",
    "                    x_8=x[7], y_8=y[7],\n",
    "                    x_9=x[8], y_9=y[8],\n",
    "                    x_10=x[9], y_10=y[9],\n",
    "                    x_11=x[10], y_11=y[10],\n",
    "                    x_12=x[11], y_12=y[11],\n",
    "                    x_13=x[12], y_13=y[12])\n",
    "    \n",
    "    fit_result = fit.execute()\n",
    "    \n",
    "    #results\n",
    "    mu_hat=fit_result.value(mu)\n",
    "\n",
    "    yfit=np.empty((len(fitBkg),200))\n",
    "    for i in range(len(fitBkg)):\n",
    "        yfit[i]=fits.signal_gauss(x[i],\n",
    "                                  fit_result.value(ap[i]),\n",
    "                                  fit_result.value(bp[i]),\n",
    "                                  fit_result.value(cp[i]),\n",
    "                                  fit_result.value(dp[i]),\n",
    "                                  fit_result.value(ep[i]),\n",
    "                                  fit_result.value(fp[i]),\n",
    "                                  fit_result.value(x0),\n",
    "                                  fit_result.value(sigma),\n",
    "                                  fit_result.value(mu))\n",
    "                                  \n",
    "    i=0\n",
    "    resultsFit={}\n",
    "    for run in InfoDataset:\n",
    "        bestFit=pd.DataFrame({\"freq\":x[i],\"fft\":y[i]})\n",
    "        fitsRes={\"run\":run[\"name\"],\"bestFits\":bestFit}\n",
    "        resultsFit.append(fitsRes)\n",
    "        i+=1\n",
    "    \n",
    "    \n",
    "    return(resultsFit,mu_hat)"
   ]
  },
  {
   "cell_type": "markdown",
   "id": "e764e31a",
   "metadata": {},
   "source": [
    "## CI"
   ]
  },
  {
   "cell_type": "code",
   "execution_count": null,
   "id": "fd175c2d",
   "metadata": {},
   "outputs": [],
   "source": [
    "def CI_mu(dataRuns,\n",
    "          x_0=np.array([]), mu_fix=np.array([]), n_toy=500,\n",
    "          signal=fits.signal_gauss):\n",
    "    \n",
    "    #n_toy : number of toypoints for each x0 for each func(background and signal)\n",
    "    #x_0 : x0 to be tested\n",
    "    #mu_fix : mu to be tested\n",
    "    #signal : which signal\n",
    "    \n",
    "    # fit background once\n",
    "    res_bkg = multipleFitBKG(dataRuns)\n",
    "    \n",
    "    bkg        = {}\n",
    "    bkg_params = {}\n",
    "    toy_0 = {}\n",
    "    for fit in res_bkg:\n",
    "        \n",
    "        bestFit={\"run\":fit['run'],\"bestfit\":fit[\"background_bestfit\"]}\n",
    "        bestParams={\"run\":fit['run'],\"bestParams\":fit[\"background_bestParams\"]}\n",
    "        bkg.append(bestFit)\n",
    "        bkg.append(bestParams)\n",
    "        \n",
    "        toy_bkg = stats.gen_toydataset(values=fit[\"background_bestfit\"], n=n_toy)\n",
    "        toy_0.append({\"run\":fit['run'],\"toy_0\":toy_bkg})\n",
    "    \n",
    "    mu_CI = np.empty(len(x_0))\n",
    "    \n",
    "    for i_x0 in range(len(x_0)):\n",
    "        mu_CI[i_x0] = CI() #we need to implement this function\n",
    "    return mu_CI"
   ]
  },
  {
   "cell_type": "markdown",
   "id": "3bab8128",
   "metadata": {},
   "source": [
    "## TEST"
   ]
  },
  {
   "cell_type": "markdown",
   "id": "c495c685",
   "metadata": {},
   "source": [
    "### Fit"
   ]
  },
  {
   "cell_type": "code",
   "execution_count": 121,
   "id": "ac71d9fd",
   "metadata": {},
   "outputs": [
    {
     "data": {
      "text/plain": [
       "{'name': 'db/AnalyzedDataFFT_Run_397_sliced.xlsx',\n",
       " 'length': 500.0,\n",
       " 'center': 10353439835.0,\n",
       " 'cavdata':              freq           fft\n",
       " 0    1.035338e+10  34980.892474\n",
       " 1    1.035338e+10  35071.619056\n",
       " 2    1.035338e+10  34994.358260\n",
       " 3    1.035338e+10  34987.893835\n",
       " 4    1.035338e+10  35049.954986\n",
       " ..            ...           ...\n",
       " 195  1.035350e+10  34357.663612\n",
       " 196  1.035350e+10  34372.673747\n",
       " 197  1.035350e+10  34383.512465\n",
       " 198  1.035350e+10  34326.823812\n",
       " 199  1.035350e+10  34400.354812\n",
       " \n",
       " [200 rows x 2 columns],\n",
       " 'weights': 0      4223.045975\n",
       " 1      4228.518883\n",
       " 2      4223.858721\n",
       " 3      4223.468571\n",
       " 4      4227.212683\n",
       "           ...     \n",
       " 195    4185.257452\n",
       " 196    4186.171577\n",
       " 197    4186.831537\n",
       " 198    4183.378665\n",
       " 199    4187.856846\n",
       " Name: fft, Length: 200, dtype: float64,\n",
       " 'ref': 696165405.1618804}"
      ]
     },
     "execution_count": 121,
     "metadata": {},
     "output_type": "execute_result"
    }
   ],
   "source": [
    "runsData=multipleLoad()"
   ]
  },
  {
   "cell_type": "code",
   "execution_count": 130,
   "id": "812de4cd",
   "metadata": {},
   "outputs": [
    {
     "data": {
      "text/plain": [
       "13"
      ]
     },
     "execution_count": 130,
     "metadata": {},
     "output_type": "execute_result"
    }
   ],
   "source": [
    "fitBkg=multipleFitBKG(runsData)\n",
    "fits_sig=multipleFitSIG(runsData,fitBkg,10353357599.0)"
   ]
  },
  {
   "cell_type": "markdown",
   "id": "695e3fc6",
   "metadata": {},
   "source": [
    "### CI"
   ]
  },
  {
   "cell_type": "code",
   "execution_count": null,
   "id": "ce7d7082",
   "metadata": {},
   "outputs": [],
   "source": []
  }
 ],
 "metadata": {
  "kernelspec": {
   "display_name": "Python 3 (ipykernel)",
   "language": "python",
   "name": "python3"
  },
  "language_info": {
   "codemirror_mode": {
    "name": "ipython",
    "version": 3
   },
   "file_extension": ".py",
   "mimetype": "text/x-python",
   "name": "python",
   "nbconvert_exporter": "python",
   "pygments_lexer": "ipython3",
   "version": "3.10.10"
  }
 },
 "nbformat": 4,
 "nbformat_minor": 5
}
