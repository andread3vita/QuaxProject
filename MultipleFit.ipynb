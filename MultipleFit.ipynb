{
 "cells": [
  {
   "cell_type": "markdown",
   "id": "3a01f3b5",
   "metadata": {},
   "source": [
    "# Multiple fit code"
   ]
  },
  {
   "cell_type": "code",
   "execution_count": 59,
   "id": "16f88df5",
   "metadata": {},
   "outputs": [],
   "source": [
    "import os\n",
    "import scipy\n",
    "import pandas as pd\n",
    "import numpy as np\n",
    "import matplotlib.pyplot as plt\n",
    "\n",
    "from math import factorial\n",
    "from scipy import optimize\n",
    "from matplotlib.pyplot import cm\n",
    "from lmfit import Model\n",
    "from matplotlib.gridspec import GridSpec\n",
    "from scipy.stats import poisson as pois\n",
    "from scipy.stats import norm\n",
    "\n",
    "import nbimporter\n",
    "import fitFunc as fits"
   ]
  },
  {
   "cell_type": "markdown",
   "id": "6b7603bd",
   "metadata": {},
   "source": [
    "## Multiple loading (load + prep)"
   ]
  },
  {
   "cell_type": "code",
   "execution_count": 2,
   "id": "ebc3d78e",
   "metadata": {},
   "outputs": [],
   "source": [
    "def multipleLoad(path='db/',bin_width=651,nbins=100):\n",
    "    \n",
    "    def list_files(path):\n",
    "        listFile=[]\n",
    "        for root, dirs, files in os.walk(path):\n",
    "            for file in files:\n",
    "                listFile.append(os.path.join(root, file))\n",
    "        return listFile\n",
    "                \n",
    "    \n",
    "    file_list=list_files(path)\n",
    "    InfoDataset=[]\n",
    "    \n",
    "    for file in file_list:\n",
    "        \n",
    "        meta = pd.read_excel(file,sheet_name=0,header=None)\n",
    "        freq = pd.read_excel(file,sheet_name=1)             # frequecies\n",
    "        fft  = pd.read_excel(file,sheet_name=2)             # power\n",
    "    \n",
    "        data = pd.DataFrame({'freq':freq[1]})\n",
    "    \n",
    "        col = 0\n",
    "        for col_name in fft.columns: # load all the subruns\n",
    "            if col > 0:\n",
    "                data[f'fft{col-1}'] = fft[col_name]\n",
    "            col += 1\n",
    "        #cavity frequency and number of files per run\n",
    "        center = meta[1][3]\n",
    "        length = meta[1][8]\n",
    "        N = length*2731 #N=1365500 if length=500\n",
    "        \n",
    "        mask = (data['freq']>center-bin_width*nbins) & (data['freq']<center+bin_width*nbins)\n",
    "        cavdata = data[mask].reset_index(drop=True)\n",
    "        \n",
    "        weights = pd.DataFrame()\n",
    "        ref=[]\n",
    "        # scale data to yottowat\n",
    "        for ind in range(1,col):\n",
    "            minW = np.min(cavdata[f'fft{ind-1}'].copy()) # minimum power in the cavity\n",
    "            \n",
    "            # In general, the average measured power should be known and equal to the noise temperature of the system.\n",
    "            # So we can rescale the data so that the power at the cavity frequency sia T_noise k_b B (W)\n",
    "            ref_ = minW**(-1) * 3.5*1.38e-23*651/1e-24 #It is possibile to add an extra contribute to make them integers\n",
    "            \n",
    "            cavdata[f'fft{ind-1}'] = ref_ * cavdata[f'fft{ind-1}']   #y' \n",
    "            \n",
    "            # set weights -> sqrt(sigma'/N)=ref*sqrt(y/N)\n",
    "            weights[f'fft{ind-1}'] = np.sqrt(ref_)*np.sqrt(cavdata[f'fft{ind-1}'])/np.sqrt(N) \n",
    "            \n",
    "            ref.append(ref_)\n",
    "        \n",
    "        checkSub = False\n",
    "        if col > 2:\n",
    "            checkSub = True\n",
    "        \n",
    "        Info={\"name\":file,\"subrun\":checkSub,\"length\":length,\"center\":center,\"cavdata\":cavdata,\"weights\":weights,\"ref\":ref} \n",
    "        InfoDataset.append(Info)\n",
    "            \n",
    "    return(InfoDataset)"
   ]
  },
  {
   "cell_type": "code",
   "execution_count": 3,
   "id": "ac71d9fd",
   "metadata": {},
   "outputs": [],
   "source": [
    "runsData=multipleLoad()\n",
    "#runsData"
   ]
  },
  {
   "cell_type": "markdown",
   "id": "53c28cec",
   "metadata": {},
   "source": [
    "## Multiple fit"
   ]
  },
  {
   "cell_type": "code",
   "execution_count": null,
   "id": "2ea630fc",
   "metadata": {},
   "outputs": [],
   "source": [
    "if fitSig:\n",
    "            sig_result=fit_sig(run[\"cavdata\"][\"freq\"],run[\"cavdata\"][\"fft\"],run[\"weights\"],\n",
    "                               fitInfo[\"signalFunc\"],bkg_result,\n",
    "                               fitInfo[\"x0\"],fitInfo[\"mu_init\"],fitInfo[\"mu_vary\"])\n",
    "                               \n",
    "            \n",
    "            results={\"run\":run[\"name\"],\n",
    "                     \"background\":{\"background_bestFit\":bkg_result.params.valuesdict(),\"background_residuals\":bkg_result.residual},\n",
    "                     \"signal\":{\"signal_bestFit\":sig_result.params.valuesdict(),\"signal_residuals\":sig_result.residual}}\n",
    "        \n",
    "        fitResult.append(results)\n",
    "    \n",
    "    return(fitResult)"
   ]
  },
  {
   "cell_type": "code",
   "execution_count": 60,
   "id": "38b92568",
   "metadata": {},
   "outputs": [],
   "source": [
    "def multipleFitBKG(InfoDataset):\n",
    "    \n",
    "    fitResult=[]\n",
    "    for run in InfoDataset:\n",
    "        numCol=len(run[\"cavdata\"].columns)-1\n",
    "        for subrun in range(numCol):\n",
    "            bkg_result=fits.fit_bkg(run[\"cavdata\"][\"freq\"],run[\"cavdata\"][f'fft{subrun}'],\n",
    "                           run['weights'][f'fft{subrun}'],run[\"center\"],run[\"ref\"][subrun])\n",
    "            \n",
    "            results={\"run\":run[\"name\"],\"subrun\":f'fft{subrun}',\n",
    "                 \"background_bestParams\":bkg_result.params.valuesdict(),\n",
    "                     \"background_residuals\":bkg_result.residual,\n",
    "                     \"background_bestfit\":bkg_result.best_fit}\n",
    "            \n",
    "            fitResult.append(results)\n",
    "    \n",
    "    return(fitResult)"
   ]
  },
  {
   "cell_type": "code",
   "execution_count": 62,
   "id": "a7580d76",
   "metadata": {},
   "outputs": [],
   "source": [
    "fits_bkg=multipleFitBKG(runsData)\n",
    "#fits_bkg"
   ]
  },
  {
   "cell_type": "code",
   "execution_count": 61,
   "id": "14b5d101",
   "metadata": {},
   "outputs": [],
   "source": [
    "def multipleFitSIG(InfoDataset,fitBkg,x0,mu,sigma):\n",
    "    \n",
    "    fitResult=[]\n",
    "    for run in InfoDataset:\n",
    "        numCol=len(run[\"cavdata\"].columns)-1\n",
    "        for subrun in range(numCol):\n",
    "            bkg_result=fits.fit_bkg(run[\"cavdata\"][\"freq\"],run[\"cavdata\"][f'fft{subrun}'],\n",
    "                           run['weights'][f'fft{subrun}'],run[\"center\"],run[\"ref\"][subrun])\n",
    "            \n",
    "            results={\"run\":run[\"name\"],\"subrun\":f'fft{subrun}',\n",
    "                 \"background_bestParams\":bkg_result.params.valuesdict(),\n",
    "                     \"background_residuals\":bkg_result.residual,\n",
    "                     \"background_bestfit\":bkg_result.best_fit}\n",
    "            \n",
    "            fitResult.append(results)\n",
    "    \n",
    "    return(fitResult)"
   ]
  },
  {
   "cell_type": "code",
   "execution_count": null,
   "id": "9938a433",
   "metadata": {},
   "outputs": [],
   "source": [
    "fits_sig=\n",
    "#fits_sig"
   ]
  },
  {
   "cell_type": "markdown",
   "id": "e764e31a",
   "metadata": {},
   "source": [
    "## CI"
   ]
  },
  {
   "cell_type": "code",
   "execution_count": null,
   "id": "17c56190",
   "metadata": {},
   "outputs": [],
   "source": [
    "def CI(x, y, w, bkg_params, center, ref, x_0, signal, mu_fix, sig, toy_0, N=1365500, draw=False, verbose=False):\n",
    "    \n",
    "    n_toy = len(toy_0)\n",
    "    \n",
    "    # scan for mu\n",
    "    q_mu_obs_best = 0            # save distribution and parameters\n",
    "    q_mu_best = np.empty(n_toy)  # to plot optimal result\n",
    "    q0_best = np.empty(n_toy)\n",
    "    r_best = 1e10\n",
    "    mu_95 = 0\n",
    "    \n",
    "    for i_mu in range(len(mu_fix)): \n",
    "        \n",
    "        fix = fits.fit_sig(x, y, w, x_0, bkg_params, signal, mu_init=mu_fix[i_mu], mu_vary=False).best_fit\n",
    "        \n",
    "        # compute likelihood ratio of observed data\n",
    "        q_mu_obs = lh_ratio(y, fix, sig)\n",
    "        \n",
    "        # generate toy datasets from fixed mu\n",
    "        toy_fix = gen_toydataset(fix, n_toy, N)\n",
    "        \n",
    "        # comute distriution of likelihood ratios\n",
    "        q_mu = calc_qmu(x, toy_fix, center, ref, x_0, mu_fix[i_mu], signal, N)\n",
    "        q0   = calc_qmu(x, toy_0,   center, ref, x_0, mu_fix[i_mu], signal, N)\n",
    "        \n",
    "        # compute p-values\n",
    "        p_mu = p_value(q_mu_obs, q_mu)\n",
    "        p_b  = p_value(q_mu_obs, q0)\n",
    "        \n",
    "        # compute ratio\n",
    "        r = p_mu/p_b\n",
    "        \n",
    "        if(verbose):\n",
    "            print(\"Mu: \", mu_fix[i_mu], \"   q(mu)_obs =\", q_mu_obs,\n",
    "                  \"\\np_mu =\", p_mu, \"  p_b =\", p_b, \"  ratio =\", r, \"\\n\")\n",
    "            \n",
    "        if(np.abs(r - 0.05) < np.abs(r_best - 0.05)):\n",
    "            q_mu_obs_best = q_mu_obs\n",
    "            q_mu_best = q_mu\n",
    "            q0_best = q0 \n",
    "            r_best = r\n",
    "            mu_95 = mu_fix[i_mu]\n",
    "            \n",
    "    # plot significance distribution\n",
    "    if(draw):\n",
    "        plot_lhratio(q_mu_obs_best, q0_best, q_mu_best, x_0, mu_95)\n",
    "        \n",
    "    return(mu_95)"
   ]
  },
  {
   "cell_type": "code",
   "execution_count": null,
   "id": "fd175c2d",
   "metadata": {},
   "outputs": [],
   "source": [
    "def CI_mu(dataRuns,\n",
    "          x_0=np.array([]), mu_fix=np.array([]), n_toy=500,\n",
    "          signal=fits.signal_gauss):\n",
    "    \n",
    "    #n_toy : number of toypoints for each x0 for each func(background and signal)\n",
    "    #x_0 : x0 to be tested\n",
    "    #mu_fix : mu to be tested\n",
    "    #signal : which signal\n",
    "    \n",
    "    # fit background once\n",
    "    res_bkg = multipleFitBKG(dataRuns)\n",
    "    \n",
    "    bkg        = {}\n",
    "    bkg_params = {}\n",
    "    toy_0 = {}\n",
    "    for fit in res_bkg:\n",
    "        \n",
    "        bestFit={\"run\":fit['run'],\"subrun\":fit[\"subrun\"],\"bestfit\":fit[\"background_bestfit\"]}\n",
    "        bestParams={\"run\":fit['run'],\"subrun\":fit[\"subrun\"],\"bestParams\":fit[\"background_bestParams\"]}\n",
    "        bkg.append(bestFit)\n",
    "        bkg.append(bestParams)\n",
    "        \n",
    "        toy_bkg = stats.gen_toydataset(values=fit[\"background_bestfit\"], n=n_toy)\n",
    "        toy_0.append({\"run\":fit['run'],\"subrun\":fit[\"subrun\"],\"toy_0\":toy_bkg})\n",
    "    \n",
    "    mu_CI = np.empty(len(x_0))\n",
    "    \n",
    "    for i_x0 in range(len(x_0)):\n",
    "        mu_CI[i_x0] = CI()\n",
    "    return mu_CI"
   ]
  },
  {
   "cell_type": "markdown",
   "id": "3bab8128",
   "metadata": {},
   "source": [
    "## TEST"
   ]
  },
  {
   "cell_type": "code",
   "execution_count": null,
   "id": "2c45cc2c",
   "metadata": {},
   "outputs": [],
   "source": []
  }
 ],
 "metadata": {
  "kernelspec": {
   "display_name": "Python 3 (ipykernel)",
   "language": "python",
   "name": "python3"
  },
  "language_info": {
   "codemirror_mode": {
    "name": "ipython",
    "version": 3
   },
   "file_extension": ".py",
   "mimetype": "text/x-python",
   "name": "python",
   "nbconvert_exporter": "python",
   "pygments_lexer": "ipython3",
   "version": "3.10.10"
  }
 },
 "nbformat": 4,
 "nbformat_minor": 5
}
